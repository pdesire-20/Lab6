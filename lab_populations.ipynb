{
  "cells": [
    {
      "cell_type": "markdown",
      "metadata": {
        "id": "view-in-github",
        "colab_type": "text"
      },
      "source": [
        "<a href=\"https://colab.research.google.com/github/pdesire-20/Lab6/blob/main/lab_populations.ipynb\" target=\"_parent\"><img src=\"https://colab.research.google.com/assets/colab-badge.svg\" alt=\"Open In Colab\"/></a>"
      ]
    },
    {
      "cell_type": "markdown",
      "metadata": {
        "id": "rqwP9heb7jc_"
      },
      "source": [
        "# Welcome to lab_populations! 👥🌎🌍🌏👥\n",
        "\n",
        "In lecture, you have been learning about both sampling and inference. This is the idea that we can calculate statistics from a random sample of the population and use those statistics to estimate what we would get if we asked every single person in the population a question.\n",
        "\n",
        "The goal of this lab is to gain a more intuitive understanding of what inference is. We will explore sampling from a population and the meaning behind confidence intervals, error, and the Central Limit Theorem (CLT).\n",
        "\n",
        "<hr>\n",
        "\n",
        "A few tips to remember:\n",
        "\n",
        "- **You are not alone on your journey in learning programming!**\n",
        "- If you find yourself stuck for more than a few minutes, ask a neighbor or course staff for help!  When you are giving help to your neighbor, explain the **idea and approach** to the problem without sharing the answer itself so they can have the same **<i>ah-hah</i>** moment!\n",
        "- We are here to help you!  Don't feel embarrassed or shy to ask us for help!\n",
        "\n",
        "Let's get started!"
      ]
    },
    {
      "cell_type": "markdown",
      "metadata": {
        "id": "f6mxgdLZ7jdD"
      },
      "source": [
        "<hr style=\"color: #DD3403;\">"
      ]
    },
    {
      "cell_type": "markdown",
      "metadata": {
        "id": "6TQZEjKV7jdD"
      },
      "source": [
        "## Part 1: Sampling the Population\n",
        "\n",
        "The `DISCOVERY_populations` library is included with this lab and contains a **very large** population (over 100,000 students) of current and former University of Illinois students.  We have simulated their answers to three questions:\n",
        "\n",
        "1. Do you support the Kingfisher as the new Illinois mascot?\n",
        "2. Do you follow @datascienceduo on Instagram?\n",
        "3. Are you a Data Science major?\n",
        "\n",
        "Right now, **we do NOT know the answers for the entire population and there is NO WAY to ask everyone**. Instead, we can only ask a sample of students and get answers for that sample. Run the following code to import the `DISCOVERY_populations` library and retrieve the sample:"
      ]
    },
    {
      "cell_type": "code",
      "execution_count": 14,
      "metadata": {
        "id": "CfliZo-27jdE",
        "outputId": "171457ae-52f3-4290-ea9a-c35ea2281101",
        "colab": {
          "base_uri": "https://localhost:8080/",
          "height": 206
        }
      },
      "outputs": [
        {
          "output_type": "execute_result",
          "data": {
            "text/plain": [
              "        DSmajor  FollowsDuo  ProKingfisher\n",
              "161332        1           1              1\n",
              "40258         0           0              1\n",
              "105828        1           1              1\n",
              "37930         1           1              1\n",
              "78486         0           0              0"
            ],
            "text/html": [
              "\n",
              "  <div id=\"df-02598f80-782e-4bdf-be8b-42b7dd6bfd60\" class=\"colab-df-container\">\n",
              "    <div>\n",
              "<style scoped>\n",
              "    .dataframe tbody tr th:only-of-type {\n",
              "        vertical-align: middle;\n",
              "    }\n",
              "\n",
              "    .dataframe tbody tr th {\n",
              "        vertical-align: top;\n",
              "    }\n",
              "\n",
              "    .dataframe thead th {\n",
              "        text-align: right;\n",
              "    }\n",
              "</style>\n",
              "<table border=\"1\" class=\"dataframe\">\n",
              "  <thead>\n",
              "    <tr style=\"text-align: right;\">\n",
              "      <th></th>\n",
              "      <th>DSmajor</th>\n",
              "      <th>FollowsDuo</th>\n",
              "      <th>ProKingfisher</th>\n",
              "    </tr>\n",
              "  </thead>\n",
              "  <tbody>\n",
              "    <tr>\n",
              "      <th>161332</th>\n",
              "      <td>1</td>\n",
              "      <td>1</td>\n",
              "      <td>1</td>\n",
              "    </tr>\n",
              "    <tr>\n",
              "      <th>40258</th>\n",
              "      <td>0</td>\n",
              "      <td>0</td>\n",
              "      <td>1</td>\n",
              "    </tr>\n",
              "    <tr>\n",
              "      <th>105828</th>\n",
              "      <td>1</td>\n",
              "      <td>1</td>\n",
              "      <td>1</td>\n",
              "    </tr>\n",
              "    <tr>\n",
              "      <th>37930</th>\n",
              "      <td>1</td>\n",
              "      <td>1</td>\n",
              "      <td>1</td>\n",
              "    </tr>\n",
              "    <tr>\n",
              "      <th>78486</th>\n",
              "      <td>0</td>\n",
              "      <td>0</td>\n",
              "      <td>0</td>\n",
              "    </tr>\n",
              "  </tbody>\n",
              "</table>\n",
              "</div>\n",
              "    <div class=\"colab-df-buttons\">\n",
              "\n",
              "  <div class=\"colab-df-container\">\n",
              "    <button class=\"colab-df-convert\" onclick=\"convertToInteractive('df-02598f80-782e-4bdf-be8b-42b7dd6bfd60')\"\n",
              "            title=\"Convert this dataframe to an interactive table.\"\n",
              "            style=\"display:none;\">\n",
              "\n",
              "  <svg xmlns=\"http://www.w3.org/2000/svg\" height=\"24px\" viewBox=\"0 -960 960 960\">\n",
              "    <path d=\"M120-120v-720h720v720H120Zm60-500h600v-160H180v160Zm220 220h160v-160H400v160Zm0 220h160v-160H400v160ZM180-400h160v-160H180v160Zm440 0h160v-160H620v160ZM180-180h160v-160H180v160Zm440 0h160v-160H620v160Z\"/>\n",
              "  </svg>\n",
              "    </button>\n",
              "\n",
              "  <style>\n",
              "    .colab-df-container {\n",
              "      display:flex;\n",
              "      gap: 12px;\n",
              "    }\n",
              "\n",
              "    .colab-df-convert {\n",
              "      background-color: #E8F0FE;\n",
              "      border: none;\n",
              "      border-radius: 50%;\n",
              "      cursor: pointer;\n",
              "      display: none;\n",
              "      fill: #1967D2;\n",
              "      height: 32px;\n",
              "      padding: 0 0 0 0;\n",
              "      width: 32px;\n",
              "    }\n",
              "\n",
              "    .colab-df-convert:hover {\n",
              "      background-color: #E2EBFA;\n",
              "      box-shadow: 0px 1px 2px rgba(60, 64, 67, 0.3), 0px 1px 3px 1px rgba(60, 64, 67, 0.15);\n",
              "      fill: #174EA6;\n",
              "    }\n",
              "\n",
              "    .colab-df-buttons div {\n",
              "      margin-bottom: 4px;\n",
              "    }\n",
              "\n",
              "    [theme=dark] .colab-df-convert {\n",
              "      background-color: #3B4455;\n",
              "      fill: #D2E3FC;\n",
              "    }\n",
              "\n",
              "    [theme=dark] .colab-df-convert:hover {\n",
              "      background-color: #434B5C;\n",
              "      box-shadow: 0px 1px 3px 1px rgba(0, 0, 0, 0.15);\n",
              "      filter: drop-shadow(0px 1px 2px rgba(0, 0, 0, 0.3));\n",
              "      fill: #FFFFFF;\n",
              "    }\n",
              "  </style>\n",
              "\n",
              "    <script>\n",
              "      const buttonEl =\n",
              "        document.querySelector('#df-02598f80-782e-4bdf-be8b-42b7dd6bfd60 button.colab-df-convert');\n",
              "      buttonEl.style.display =\n",
              "        google.colab.kernel.accessAllowed ? 'block' : 'none';\n",
              "\n",
              "      async function convertToInteractive(key) {\n",
              "        const element = document.querySelector('#df-02598f80-782e-4bdf-be8b-42b7dd6bfd60');\n",
              "        const dataTable =\n",
              "          await google.colab.kernel.invokeFunction('convertToInteractive',\n",
              "                                                    [key], {});\n",
              "        if (!dataTable) return;\n",
              "\n",
              "        const docLinkHtml = 'Like what you see? Visit the ' +\n",
              "          '<a target=\"_blank\" href=https://colab.research.google.com/notebooks/data_table.ipynb>data table notebook</a>'\n",
              "          + ' to learn more about interactive tables.';\n",
              "        element.innerHTML = '';\n",
              "        dataTable['output_type'] = 'display_data';\n",
              "        await google.colab.output.renderOutput(dataTable, element);\n",
              "        const docLink = document.createElement('div');\n",
              "        docLink.innerHTML = docLinkHtml;\n",
              "        element.appendChild(docLink);\n",
              "      }\n",
              "    </script>\n",
              "  </div>\n",
              "\n",
              "\n",
              "<div id=\"df-2cf7d4a2-2e44-4196-b2d4-4ec84c2cdb31\">\n",
              "  <button class=\"colab-df-quickchart\" onclick=\"quickchart('df-2cf7d4a2-2e44-4196-b2d4-4ec84c2cdb31')\"\n",
              "            title=\"Suggest charts\"\n",
              "            style=\"display:none;\">\n",
              "\n",
              "<svg xmlns=\"http://www.w3.org/2000/svg\" height=\"24px\"viewBox=\"0 0 24 24\"\n",
              "     width=\"24px\">\n",
              "    <g>\n",
              "        <path d=\"M19 3H5c-1.1 0-2 .9-2 2v14c0 1.1.9 2 2 2h14c1.1 0 2-.9 2-2V5c0-1.1-.9-2-2-2zM9 17H7v-7h2v7zm4 0h-2V7h2v10zm4 0h-2v-4h2v4z\"/>\n",
              "    </g>\n",
              "</svg>\n",
              "  </button>\n",
              "\n",
              "<style>\n",
              "  .colab-df-quickchart {\n",
              "      --bg-color: #E8F0FE;\n",
              "      --fill-color: #1967D2;\n",
              "      --hover-bg-color: #E2EBFA;\n",
              "      --hover-fill-color: #174EA6;\n",
              "      --disabled-fill-color: #AAA;\n",
              "      --disabled-bg-color: #DDD;\n",
              "  }\n",
              "\n",
              "  [theme=dark] .colab-df-quickchart {\n",
              "      --bg-color: #3B4455;\n",
              "      --fill-color: #D2E3FC;\n",
              "      --hover-bg-color: #434B5C;\n",
              "      --hover-fill-color: #FFFFFF;\n",
              "      --disabled-bg-color: #3B4455;\n",
              "      --disabled-fill-color: #666;\n",
              "  }\n",
              "\n",
              "  .colab-df-quickchart {\n",
              "    background-color: var(--bg-color);\n",
              "    border: none;\n",
              "    border-radius: 50%;\n",
              "    cursor: pointer;\n",
              "    display: none;\n",
              "    fill: var(--fill-color);\n",
              "    height: 32px;\n",
              "    padding: 0;\n",
              "    width: 32px;\n",
              "  }\n",
              "\n",
              "  .colab-df-quickchart:hover {\n",
              "    background-color: var(--hover-bg-color);\n",
              "    box-shadow: 0 1px 2px rgba(60, 64, 67, 0.3), 0 1px 3px 1px rgba(60, 64, 67, 0.15);\n",
              "    fill: var(--button-hover-fill-color);\n",
              "  }\n",
              "\n",
              "  .colab-df-quickchart-complete:disabled,\n",
              "  .colab-df-quickchart-complete:disabled:hover {\n",
              "    background-color: var(--disabled-bg-color);\n",
              "    fill: var(--disabled-fill-color);\n",
              "    box-shadow: none;\n",
              "  }\n",
              "\n",
              "  .colab-df-spinner {\n",
              "    border: 2px solid var(--fill-color);\n",
              "    border-color: transparent;\n",
              "    border-bottom-color: var(--fill-color);\n",
              "    animation:\n",
              "      spin 1s steps(1) infinite;\n",
              "  }\n",
              "\n",
              "  @keyframes spin {\n",
              "    0% {\n",
              "      border-color: transparent;\n",
              "      border-bottom-color: var(--fill-color);\n",
              "      border-left-color: var(--fill-color);\n",
              "    }\n",
              "    20% {\n",
              "      border-color: transparent;\n",
              "      border-left-color: var(--fill-color);\n",
              "      border-top-color: var(--fill-color);\n",
              "    }\n",
              "    30% {\n",
              "      border-color: transparent;\n",
              "      border-left-color: var(--fill-color);\n",
              "      border-top-color: var(--fill-color);\n",
              "      border-right-color: var(--fill-color);\n",
              "    }\n",
              "    40% {\n",
              "      border-color: transparent;\n",
              "      border-right-color: var(--fill-color);\n",
              "      border-top-color: var(--fill-color);\n",
              "    }\n",
              "    60% {\n",
              "      border-color: transparent;\n",
              "      border-right-color: var(--fill-color);\n",
              "    }\n",
              "    80% {\n",
              "      border-color: transparent;\n",
              "      border-right-color: var(--fill-color);\n",
              "      border-bottom-color: var(--fill-color);\n",
              "    }\n",
              "    90% {\n",
              "      border-color: transparent;\n",
              "      border-bottom-color: var(--fill-color);\n",
              "    }\n",
              "  }\n",
              "</style>\n",
              "\n",
              "  <script>\n",
              "    async function quickchart(key) {\n",
              "      const quickchartButtonEl =\n",
              "        document.querySelector('#' + key + ' button');\n",
              "      quickchartButtonEl.disabled = true;  // To prevent multiple clicks.\n",
              "      quickchartButtonEl.classList.add('colab-df-spinner');\n",
              "      try {\n",
              "        const charts = await google.colab.kernel.invokeFunction(\n",
              "            'suggestCharts', [key], {});\n",
              "      } catch (error) {\n",
              "        console.error('Error during call to suggestCharts:', error);\n",
              "      }\n",
              "      quickchartButtonEl.classList.remove('colab-df-spinner');\n",
              "      quickchartButtonEl.classList.add('colab-df-quickchart-complete');\n",
              "    }\n",
              "    (() => {\n",
              "      let quickchartButtonEl =\n",
              "        document.querySelector('#df-2cf7d4a2-2e44-4196-b2d4-4ec84c2cdb31 button');\n",
              "      quickchartButtonEl.style.display =\n",
              "        google.colab.kernel.accessAllowed ? 'block' : 'none';\n",
              "    })();\n",
              "  </script>\n",
              "</div>\n",
              "\n",
              "    </div>\n",
              "  </div>\n"
            ],
            "application/vnd.google.colaboratory.intrinsic+json": {
              "type": "dataframe",
              "variable_name": "sample",
              "summary": "{\n  \"name\": \"sample\",\n  \"rows\": 52,\n  \"fields\": [\n    {\n      \"column\": \"DSmajor\",\n      \"properties\": {\n        \"dtype\": \"number\",\n        \"std\": 0,\n        \"min\": 0,\n        \"max\": 1,\n        \"num_unique_values\": 2,\n        \"samples\": [\n          0,\n          1\n        ],\n        \"semantic_type\": \"\",\n        \"description\": \"\"\n      }\n    },\n    {\n      \"column\": \"FollowsDuo\",\n      \"properties\": {\n        \"dtype\": \"number\",\n        \"std\": 0,\n        \"min\": 0,\n        \"max\": 1,\n        \"num_unique_values\": 2,\n        \"samples\": [\n          0,\n          1\n        ],\n        \"semantic_type\": \"\",\n        \"description\": \"\"\n      }\n    },\n    {\n      \"column\": \"ProKingfisher\",\n      \"properties\": {\n        \"dtype\": \"number\",\n        \"std\": 0,\n        \"min\": 0,\n        \"max\": 1,\n        \"num_unique_values\": 2,\n        \"samples\": [\n          0,\n          1\n        ],\n        \"semantic_type\": \"\",\n        \"description\": \"\"\n      }\n    }\n  ]\n}"
            }
          },
          "metadata": {},
          "execution_count": 14
        }
      ],
      "source": [
        "import DISCOVERY_populations\n",
        "sample = DISCOVERY_populations.getSample()\n",
        "sample.head()"
      ]
    },
    {
      "cell_type": "markdown",
      "metadata": {
        "id": "E5kZKVPp7jdE"
      },
      "source": [
        "### Puzzle 1.1: Statistics about the Sample\n",
        "\n",
        "You have received a **random sample** from the population and it looks like it has three columns: `DSmajor`, `FollowsDuo`, and `ProKingfisher`. Using the `len` function, create a variable `n` that stores the number of people in your sample:"
      ]
    },
    {
      "cell_type": "code",
      "execution_count": 15,
      "metadata": {
        "id": "eC-yfdXH7jdE",
        "colab": {
          "base_uri": "https://localhost:8080/"
        },
        "outputId": "6631baef-6d0f-4aca-a113-a150666d504f"
      },
      "outputs": [
        {
          "output_type": "execute_result",
          "data": {
            "text/plain": [
              "52"
            ]
          },
          "metadata": {},
          "execution_count": 15
        }
      ],
      "source": [
        "n = len(sample)\n",
        "n"
      ]
    },
    {
      "cell_type": "markdown",
      "metadata": {
        "id": "nG77zAig7jdF"
      },
      "source": [
        "We'll first focus on people who follow @datascienceduo -- the people who follow the DUO are coded with a `1` in the sample and the people who do not follow the DUO are coded with a `0`.  \n",
        "\n",
        "In your sample, how many people follow the DUO?"
      ]
    },
    {
      "cell_type": "code",
      "execution_count": 19,
      "metadata": {
        "id": "9xTi77Z47jdF",
        "colab": {
          "base_uri": "https://localhost:8080/"
        },
        "outputId": "df7b3bb1-6bb7-418c-acdf-6a77ef2f64c3"
      },
      "outputs": [
        {
          "output_type": "execute_result",
          "data": {
            "text/plain": [
              "27"
            ]
          },
          "metadata": {},
          "execution_count": 19
        }
      ],
      "source": [
        "followers = len(sample[sample.FollowsDuo == 1])\n",
        "followers"
      ]
    },
    {
      "cell_type": "code",
      "execution_count": 20,
      "metadata": {
        "id": "RsYdizuI7jdF",
        "colab": {
          "base_uri": "https://localhost:8080/"
        },
        "outputId": "ff188781-dbc2-45b5-b8ab-6ece301efc8f"
      },
      "outputs": [
        {
          "output_type": "stream",
          "name": "stdout",
          "text": [
            "🎉 All tests passed! 🎉\n"
          ]
        }
      ],
      "source": [
        "## == CHECKPOINT TEST CASES ==\n",
        "# - This read-only cell contains test cases for your previous cell.\n",
        "# - If this cell runs without any errors, you PASSED all test cases!\n",
        "# - If this cell results in any errors, check your previous cell, make changes, and RE-RUN your code and then this cell.\n",
        "assert(\"sample\" in vars()), \"Check to make sure you have the variable `sample`.\"\n",
        "assert(len(sample) == n), \"Check to make sure `n` stores the number of observations in your sample.\"\n",
        "assert(followers == sum(sample.FollowsDuo)), \"Check to make sure `followers` stores the number of people following @datascienceduo.\"\n",
        "\n",
        "## == SUCCESS MESSAGE ==\n",
        "# You will only see this message (with the emoji showing) if you passed all test cases:\n",
        "tada = \"\\N{PARTY POPPER}\"\n",
        "print(f\"{tada} All tests passed! {tada}\")"
      ]
    },
    {
      "cell_type": "markdown",
      "metadata": {
        "id": "JfVWx_F_7jdG"
      },
      "source": [
        "### Puzzle 1.2: Finding the 95% Confidence Interval for the Percentage of DUO followers\n",
        "\n",
        "We want to estimate what percentage of the population follows @datascienceduo. To do that, we need to use the confidence interval formula you learned in lecture.\n",
        "\n",
        "$$ CI = {SamplePercent} \\pm ({z} \\times {SampleStandardError})$$\n",
        "\n",
        "Let's work on finding all three of the components we need: `samplePercent`, `z`, and `sampleSE`. For this entire puzzle, make sure your percentages (samplePercent and sampleSE) are in percent form and not decimal form. In other words, they should be numbers between 0% and 100%.\n",
        "\n",
        "\n",
        "#### Puzzle 1.2(a): Finding `samplePercent`\n",
        "\n",
        " Using the `FollowsDuo` column, store the **percentage of the sample that follow the DUO** in the variable `samplePercent`:\n",
        "\n",
        " *Note: Since the `FollowsDuo` column is encoded so that a `0` is a non-follower and a `1` is a follower, the mean of the column will be a proportion (decimal), but we want to find a **percentage** so make sure to convert your answer to be between 0 and 100 percent.*"
      ]
    },
    {
      "cell_type": "code",
      "execution_count": 23,
      "metadata": {
        "id": "UaLkhuJN7jdG",
        "colab": {
          "base_uri": "https://localhost:8080/"
        },
        "outputId": "2568e321-5083-4ed8-ee22-cd9024a01d3c"
      },
      "outputs": [
        {
          "output_type": "execute_result",
          "data": {
            "text/plain": [
              "51.92307692307693"
            ]
          },
          "metadata": {},
          "execution_count": 23
        }
      ],
      "source": [
        "samplePercent = sample.FollowsDuo.mean() * 100\n",
        "samplePercent"
      ]
    },
    {
      "cell_type": "code",
      "execution_count": 24,
      "metadata": {
        "id": "gst2wqBP7jdG",
        "colab": {
          "base_uri": "https://localhost:8080/"
        },
        "outputId": "996ce820-b0db-40e5-fdeb-9bd4167d72c9"
      },
      "outputs": [
        {
          "output_type": "stream",
          "name": "stdout",
          "text": [
            "🎉 All tests passed! 🎉\n"
          ]
        }
      ],
      "source": [
        "## == CHECKPOINT TEST CASES ==\n",
        "# - This read-only cell contains test cases for your previous cell.\n",
        "# - If this cell runs without any errors, you PASSED all test cases!\n",
        "# - If this cell results in any errors, check your previous cell, make changes, and RE-RUN your code and then this cell.\n",
        "import math\n",
        "F = sample.FollowsDuo\n",
        "assert(math.isclose(samplePercent, F.sum()/n*100)), \"Check your `samplePercent`.\"\n",
        "\n",
        "## == SUCCESS MESSAGE ==\n",
        "# You will only see this message (with the emoji showing) if you passed all test cases:\n",
        "tada = \"\\N{PARTY POPPER}\"\n",
        "print(f\"{tada} All tests passed! {tada}\")"
      ]
    },
    {
      "cell_type": "markdown",
      "metadata": {
        "id": "_tb1Ut-K7jdG"
      },
      "source": [
        "#### Puzzle 1.2(b): Finding `z`\n",
        "\n",
        "We want to find the range where we are 95% sure that the true percentage of people who follow the DUO is within that range. Find the z-score we need to use to create a 95% CI:\n",
        "\n",
        "*Hint: Because the sample size is greater than 30 and the sample was randomly selected from the population, we can use the standard normal curve to find the z-score when creating our 95% CI.*"
      ]
    },
    {
      "cell_type": "code",
      "execution_count": 26,
      "metadata": {
        "id": "q-WEQf2j7jdG",
        "colab": {
          "base_uri": "https://localhost:8080/"
        },
        "outputId": "685ce1f2-da8c-4ed5-f988-6f6ae0fd9732"
      },
      "outputs": [
        {
          "output_type": "execute_result",
          "data": {
            "text/plain": [
              "1.959963984540054"
            ]
          },
          "metadata": {},
          "execution_count": 26
        }
      ],
      "source": [
        " from scipy.stats import norm\n",
        "z = norm.ppf(0.95 + 0.025)\n",
        "z"
      ]
    },
    {
      "cell_type": "code",
      "execution_count": null,
      "metadata": {
        "id": "EU6xGLpJ7jdG"
      },
      "outputs": [],
      "source": [
        "## == CHECKPOINT TEST CASES ==\n",
        "# - This read-only cell contains test cases for your previous cell.\n",
        "# - If this cell runs without any errors, you PASSED all test cases!\n",
        "# - If this cell results in any errors, check your previous cell, make changes, and RE-RUN your code and then this cell.\n",
        "assert(math.isclose(abs(z) + abs(z)**abs(z), 5.69931068079139)), \"Check your `z`.\"\n",
        "\n",
        "## == SUCCESS MESSAGE ==\n",
        "# You will only see this message (with the emoji showing) if you passed all test cases:\n",
        "tada = \"\\N{PARTY POPPER}\"\n",
        "print(f\"{tada} All tests passed! {tada}\")\n"
      ]
    },
    {
      "cell_type": "markdown",
      "metadata": {
        "id": "mDuXxh-o7jdG"
      },
      "source": [
        "#### Puzzle 1.2(c): Finding `sampleSE`\n",
        "\n",
        "Finally, we need to find the standard error of the sample as a **percentage**.\n",
        "\n",
        "Remember: $SE_{\\%} = \\frac{SD}{\\sqrt{n}} * 100$, where $SE$ is standard error, $SD$ is standard deviation, and $n$ is the sample size."
      ]
    },
    {
      "cell_type": "code",
      "execution_count": 27,
      "metadata": {
        "id": "rXTCppLu7jdG",
        "colab": {
          "base_uri": "https://localhost:8080/"
        },
        "outputId": "887ea2ec-1b08-49d5-d5f2-dbbb0fe89e9f"
      },
      "outputs": [
        {
          "output_type": "execute_result",
          "data": {
            "text/plain": [
              "6.996219952971145"
            ]
          },
          "metadata": {},
          "execution_count": 27
        }
      ],
      "source": [
        "sampleSE = (sample[\"FollowsDuo\"].std()/(n**0.5))*100\n",
        "sampleSE"
      ]
    },
    {
      "cell_type": "code",
      "execution_count": null,
      "metadata": {
        "id": "IOLWqESN7jdH"
      },
      "outputs": [],
      "source": [
        "## == CHECKPOINT TEST CASES ==\n",
        "# - This read-only cell contains test cases for your previous cell.\n",
        "# - If this cell runs without any errors, you PASSED all test cases!\n",
        "# - If this cell results in any errors, check your previous cell, make changes, and RE-RUN your code and then this cell.\n",
        "assert(math.isclose(sampleSE, (n / F.var())**-0.5 * 100)), \"Check your `sampleSE`.\"\n",
        "\n",
        "## == SUCCESS MESSAGE ==\n",
        "# You will only see this message (with the emoji showing) if you passed all test cases:\n",
        "tada = \"\\N{PARTY POPPER}\"\n",
        "print(f\"{tada} All tests passed! {tada}\")"
      ]
    },
    {
      "cell_type": "markdown",
      "metadata": {
        "id": "FGNkGrTn7jdH"
      },
      "source": [
        "### Puzzle 1.3: Finding the Confidence Interval\n",
        "\n",
        "The formula for the confidence interval has both a \"lower bound\" (when you subtract the margin of error from the sample average) and an \"upper bound\" (when you add the margin of error to the sample average). Recall the formula you learned in lecture:\n",
        "\n",
        "$$ CI = {SamplePercent} \\pm ({z} \\times {SampleStandardError})$$\n",
        "\n",
        "Using the variables you just calculated in the previous section, find the `lower_bound_CI` and `upper_bound_CI` of your confidence interval:"
      ]
    },
    {
      "cell_type": "code",
      "execution_count": 28,
      "metadata": {
        "id": "w9sKduwO7jdH",
        "colab": {
          "base_uri": "https://localhost:8080/"
        },
        "outputId": "8adf8ad9-62d1-4867-dea4-01b000c7e380"
      },
      "outputs": [
        {
          "output_type": "execute_result",
          "data": {
            "text/plain": [
              "38.210737787332974"
            ]
          },
          "metadata": {},
          "execution_count": 28
        }
      ],
      "source": [
        "lower_bound_CI = samplePercent -(z*sampleSE)\n",
        "lower_bound_CI"
      ]
    },
    {
      "cell_type": "code",
      "execution_count": 29,
      "metadata": {
        "id": "0-p4qry27jdH",
        "colab": {
          "base_uri": "https://localhost:8080/"
        },
        "outputId": "af83480a-56fe-43cb-8129-0460a0cbedf8"
      },
      "outputs": [
        {
          "output_type": "execute_result",
          "data": {
            "text/plain": [
              "65.63541605882088"
            ]
          },
          "metadata": {},
          "execution_count": 29
        }
      ],
      "source": [
        "upper_bound_CI = samplePercent + (z*sampleSE)\n",
        "upper_bound_CI"
      ]
    },
    {
      "cell_type": "markdown",
      "metadata": {
        "id": "6jiSkhyt7jdH"
      },
      "source": [
        "Putting it all together, run the following code that will write out your full confidence interval interpretation:"
      ]
    },
    {
      "cell_type": "code",
      "execution_count": 30,
      "metadata": {
        "id": "-Cj0eMOm7jdH",
        "colab": {
          "base_uri": "https://localhost:8080/"
        },
        "outputId": "ee2b86e6-4dfe-4156-ca70-d8838c851103"
      },
      "outputs": [
        {
          "output_type": "stream",
          "name": "stdout",
          "text": [
            "Based on the sample, we are 95% confident that the true percentage of followers of @datascienceduo in the full population is between:\n",
            "   38.21% - 65.64%\n"
          ]
        }
      ],
      "source": [
        "print(f\"Based on the sample, we are 95% confident that the true percentage of followers of @datascienceduo in the full population is between:\\n   {round(lower_bound_CI, 2)}% - {round(upper_bound_CI, 2)}%\")"
      ]
    },
    {
      "cell_type": "markdown",
      "metadata": {
        "id": "qHaUJ7_h7jdH"
      },
      "source": [
        "### Reflections"
      ]
    },
    {
      "cell_type": "markdown",
      "metadata": {
        "id": "Gl0zUQR_7jdH"
      },
      "source": [
        "**Q1**: Talk to your group members and share your confidence intervals.\n",
        "- (a): What is the confidence interval of another group member's sample?\n",
        "- (b): Is it the same or different?\n",
        "- (c): Why is it okay that it's the same or different?"
      ]
    },
    {
      "cell_type": "markdown",
      "metadata": {
        "id": "6UbAJ9ER7jdH"
      },
      "source": [
        "*(✏️ Edit this cell to replace this text with your answers. ✏️)*"
      ]
    },
    {
      "cell_type": "markdown",
      "metadata": {
        "id": "CLzI2LyZ7jdH"
      },
      "source": [
        "**Q2**: What is the margin of error (the numeric value) of your confidence interval?  *You may need to do a bit of calculation.*"
      ]
    },
    {
      "cell_type": "markdown",
      "metadata": {
        "id": "cwzBAoxI7jdH"
      },
      "source": [
        "*(✏️ Edit this cell to replace this text with your answers. ✏️)*"
      ]
    },
    {
      "cell_type": "markdown",
      "metadata": {
        "id": "e5-oSo-o7jdH"
      },
      "source": [
        "**Q3**: If the complete population is 1,000,000 people, we can be 95% certain **at least how many people are following the DUO**?  First, in English (not math equations), explain in at least one sentence how you will calculate this result.  Then, calculate it and include your answer below."
      ]
    },
    {
      "cell_type": "markdown",
      "metadata": {
        "id": "8ZZO1laX7jdH"
      },
      "source": [
        "*(✏️ Edit this cell to replace this text with your answers. ✏️)*"
      ]
    },
    {
      "cell_type": "markdown",
      "metadata": {
        "id": "XU1eTDNo7jdH"
      },
      "source": [
        "**Q4**: Finally, can we accurately predict if at least 50% of the population follow @datascienceduo given your confidence interval?"
      ]
    },
    {
      "cell_type": "markdown",
      "metadata": {
        "id": "ErQ4wdpY7jdH"
      },
      "source": [
        "*(✏️ Edit this cell to replace this text with your answers. ✏️)*"
      ]
    },
    {
      "cell_type": "markdown",
      "metadata": {
        "id": "472MWBAc7jdH"
      },
      "source": [
        "<hr style=\"color: #DD3403;\">"
      ]
    },
    {
      "cell_type": "markdown",
      "metadata": {
        "id": "DdWViQXV7jdI"
      },
      "source": [
        "## Part 2: Towards a Smaller Margin of Error"
      ]
    },
    {
      "cell_type": "markdown",
      "metadata": {
        "id": "mqSxbq5R7jdI"
      },
      "source": [
        "The number of followers of @datascienceduo is fun, but the large margin of error you had is a little alarming.  For really important issues, we want a smaller margin of error in our sample."
      ]
    },
    {
      "cell_type": "markdown",
      "metadata": {
        "id": "HVu-hiwB7jdI"
      },
      "source": [
        "**Q5**: What are at least **TWO** things we can do as a data scientist to reduce the margin of error?"
      ]
    },
    {
      "cell_type": "markdown",
      "metadata": {
        "id": "he2t5mZn7jdI"
      },
      "source": [
        "*(✏️ Edit this cell to replace this text with your answers. ✏️)*"
      ]
    },
    {
      "cell_type": "markdown",
      "metadata": {
        "id": "5QLGOIqg7jdI"
      },
      "source": [
        "### Part 2.1: An Expensive Sample\n",
        "\n",
        "Taking a large sample requires surveying more people and getting more responses, which is almost always more expensive.  In the `DISCOVERY_populations` library you imported in Part 1, we have a second function: `getExpensiveSample()`.\n",
        "\n",
        "The following code gets a larger and more expensive sample and stores it in `sample2`:"
      ]
    },
    {
      "cell_type": "code",
      "execution_count": 31,
      "metadata": {
        "id": "aaYePTCE7jdM",
        "colab": {
          "base_uri": "https://localhost:8080/",
          "height": 423
        },
        "outputId": "42da0fb5-1436-4b14-a93e-c606fa3b6c0a"
      },
      "outputs": [
        {
          "output_type": "execute_result",
          "data": {
            "text/plain": [
              "        DSmajor  FollowsDuo  ProKingfisher\n",
              "94526         1           1              1\n",
              "94213         1           1              1\n",
              "48609         1           1              1\n",
              "20982         0           0              0\n",
              "147652        0           0              1\n",
              "...         ...         ...            ...\n",
              "42995         0           0              0\n",
              "80334         1           1              1\n",
              "166399        0           0              0\n",
              "112764        0           0              1\n",
              "13462         0           0              1\n",
              "\n",
              "[1017 rows x 3 columns]"
            ],
            "text/html": [
              "\n",
              "  <div id=\"df-9f2ad4f9-8b84-475d-bcb9-b51181733663\" class=\"colab-df-container\">\n",
              "    <div>\n",
              "<style scoped>\n",
              "    .dataframe tbody tr th:only-of-type {\n",
              "        vertical-align: middle;\n",
              "    }\n",
              "\n",
              "    .dataframe tbody tr th {\n",
              "        vertical-align: top;\n",
              "    }\n",
              "\n",
              "    .dataframe thead th {\n",
              "        text-align: right;\n",
              "    }\n",
              "</style>\n",
              "<table border=\"1\" class=\"dataframe\">\n",
              "  <thead>\n",
              "    <tr style=\"text-align: right;\">\n",
              "      <th></th>\n",
              "      <th>DSmajor</th>\n",
              "      <th>FollowsDuo</th>\n",
              "      <th>ProKingfisher</th>\n",
              "    </tr>\n",
              "  </thead>\n",
              "  <tbody>\n",
              "    <tr>\n",
              "      <th>94526</th>\n",
              "      <td>1</td>\n",
              "      <td>1</td>\n",
              "      <td>1</td>\n",
              "    </tr>\n",
              "    <tr>\n",
              "      <th>94213</th>\n",
              "      <td>1</td>\n",
              "      <td>1</td>\n",
              "      <td>1</td>\n",
              "    </tr>\n",
              "    <tr>\n",
              "      <th>48609</th>\n",
              "      <td>1</td>\n",
              "      <td>1</td>\n",
              "      <td>1</td>\n",
              "    </tr>\n",
              "    <tr>\n",
              "      <th>20982</th>\n",
              "      <td>0</td>\n",
              "      <td>0</td>\n",
              "      <td>0</td>\n",
              "    </tr>\n",
              "    <tr>\n",
              "      <th>147652</th>\n",
              "      <td>0</td>\n",
              "      <td>0</td>\n",
              "      <td>1</td>\n",
              "    </tr>\n",
              "    <tr>\n",
              "      <th>...</th>\n",
              "      <td>...</td>\n",
              "      <td>...</td>\n",
              "      <td>...</td>\n",
              "    </tr>\n",
              "    <tr>\n",
              "      <th>42995</th>\n",
              "      <td>0</td>\n",
              "      <td>0</td>\n",
              "      <td>0</td>\n",
              "    </tr>\n",
              "    <tr>\n",
              "      <th>80334</th>\n",
              "      <td>1</td>\n",
              "      <td>1</td>\n",
              "      <td>1</td>\n",
              "    </tr>\n",
              "    <tr>\n",
              "      <th>166399</th>\n",
              "      <td>0</td>\n",
              "      <td>0</td>\n",
              "      <td>0</td>\n",
              "    </tr>\n",
              "    <tr>\n",
              "      <th>112764</th>\n",
              "      <td>0</td>\n",
              "      <td>0</td>\n",
              "      <td>1</td>\n",
              "    </tr>\n",
              "    <tr>\n",
              "      <th>13462</th>\n",
              "      <td>0</td>\n",
              "      <td>0</td>\n",
              "      <td>1</td>\n",
              "    </tr>\n",
              "  </tbody>\n",
              "</table>\n",
              "<p>1017 rows × 3 columns</p>\n",
              "</div>\n",
              "    <div class=\"colab-df-buttons\">\n",
              "\n",
              "  <div class=\"colab-df-container\">\n",
              "    <button class=\"colab-df-convert\" onclick=\"convertToInteractive('df-9f2ad4f9-8b84-475d-bcb9-b51181733663')\"\n",
              "            title=\"Convert this dataframe to an interactive table.\"\n",
              "            style=\"display:none;\">\n",
              "\n",
              "  <svg xmlns=\"http://www.w3.org/2000/svg\" height=\"24px\" viewBox=\"0 -960 960 960\">\n",
              "    <path d=\"M120-120v-720h720v720H120Zm60-500h600v-160H180v160Zm220 220h160v-160H400v160Zm0 220h160v-160H400v160ZM180-400h160v-160H180v160Zm440 0h160v-160H620v160ZM180-180h160v-160H180v160Zm440 0h160v-160H620v160Z\"/>\n",
              "  </svg>\n",
              "    </button>\n",
              "\n",
              "  <style>\n",
              "    .colab-df-container {\n",
              "      display:flex;\n",
              "      gap: 12px;\n",
              "    }\n",
              "\n",
              "    .colab-df-convert {\n",
              "      background-color: #E8F0FE;\n",
              "      border: none;\n",
              "      border-radius: 50%;\n",
              "      cursor: pointer;\n",
              "      display: none;\n",
              "      fill: #1967D2;\n",
              "      height: 32px;\n",
              "      padding: 0 0 0 0;\n",
              "      width: 32px;\n",
              "    }\n",
              "\n",
              "    .colab-df-convert:hover {\n",
              "      background-color: #E2EBFA;\n",
              "      box-shadow: 0px 1px 2px rgba(60, 64, 67, 0.3), 0px 1px 3px 1px rgba(60, 64, 67, 0.15);\n",
              "      fill: #174EA6;\n",
              "    }\n",
              "\n",
              "    .colab-df-buttons div {\n",
              "      margin-bottom: 4px;\n",
              "    }\n",
              "\n",
              "    [theme=dark] .colab-df-convert {\n",
              "      background-color: #3B4455;\n",
              "      fill: #D2E3FC;\n",
              "    }\n",
              "\n",
              "    [theme=dark] .colab-df-convert:hover {\n",
              "      background-color: #434B5C;\n",
              "      box-shadow: 0px 1px 3px 1px rgba(0, 0, 0, 0.15);\n",
              "      filter: drop-shadow(0px 1px 2px rgba(0, 0, 0, 0.3));\n",
              "      fill: #FFFFFF;\n",
              "    }\n",
              "  </style>\n",
              "\n",
              "    <script>\n",
              "      const buttonEl =\n",
              "        document.querySelector('#df-9f2ad4f9-8b84-475d-bcb9-b51181733663 button.colab-df-convert');\n",
              "      buttonEl.style.display =\n",
              "        google.colab.kernel.accessAllowed ? 'block' : 'none';\n",
              "\n",
              "      async function convertToInteractive(key) {\n",
              "        const element = document.querySelector('#df-9f2ad4f9-8b84-475d-bcb9-b51181733663');\n",
              "        const dataTable =\n",
              "          await google.colab.kernel.invokeFunction('convertToInteractive',\n",
              "                                                    [key], {});\n",
              "        if (!dataTable) return;\n",
              "\n",
              "        const docLinkHtml = 'Like what you see? Visit the ' +\n",
              "          '<a target=\"_blank\" href=https://colab.research.google.com/notebooks/data_table.ipynb>data table notebook</a>'\n",
              "          + ' to learn more about interactive tables.';\n",
              "        element.innerHTML = '';\n",
              "        dataTable['output_type'] = 'display_data';\n",
              "        await google.colab.output.renderOutput(dataTable, element);\n",
              "        const docLink = document.createElement('div');\n",
              "        docLink.innerHTML = docLinkHtml;\n",
              "        element.appendChild(docLink);\n",
              "      }\n",
              "    </script>\n",
              "  </div>\n",
              "\n",
              "\n",
              "<div id=\"df-e706926c-347c-4ca9-8560-8bf12e14268e\">\n",
              "  <button class=\"colab-df-quickchart\" onclick=\"quickchart('df-e706926c-347c-4ca9-8560-8bf12e14268e')\"\n",
              "            title=\"Suggest charts\"\n",
              "            style=\"display:none;\">\n",
              "\n",
              "<svg xmlns=\"http://www.w3.org/2000/svg\" height=\"24px\"viewBox=\"0 0 24 24\"\n",
              "     width=\"24px\">\n",
              "    <g>\n",
              "        <path d=\"M19 3H5c-1.1 0-2 .9-2 2v14c0 1.1.9 2 2 2h14c1.1 0 2-.9 2-2V5c0-1.1-.9-2-2-2zM9 17H7v-7h2v7zm4 0h-2V7h2v10zm4 0h-2v-4h2v4z\"/>\n",
              "    </g>\n",
              "</svg>\n",
              "  </button>\n",
              "\n",
              "<style>\n",
              "  .colab-df-quickchart {\n",
              "      --bg-color: #E8F0FE;\n",
              "      --fill-color: #1967D2;\n",
              "      --hover-bg-color: #E2EBFA;\n",
              "      --hover-fill-color: #174EA6;\n",
              "      --disabled-fill-color: #AAA;\n",
              "      --disabled-bg-color: #DDD;\n",
              "  }\n",
              "\n",
              "  [theme=dark] .colab-df-quickchart {\n",
              "      --bg-color: #3B4455;\n",
              "      --fill-color: #D2E3FC;\n",
              "      --hover-bg-color: #434B5C;\n",
              "      --hover-fill-color: #FFFFFF;\n",
              "      --disabled-bg-color: #3B4455;\n",
              "      --disabled-fill-color: #666;\n",
              "  }\n",
              "\n",
              "  .colab-df-quickchart {\n",
              "    background-color: var(--bg-color);\n",
              "    border: none;\n",
              "    border-radius: 50%;\n",
              "    cursor: pointer;\n",
              "    display: none;\n",
              "    fill: var(--fill-color);\n",
              "    height: 32px;\n",
              "    padding: 0;\n",
              "    width: 32px;\n",
              "  }\n",
              "\n",
              "  .colab-df-quickchart:hover {\n",
              "    background-color: var(--hover-bg-color);\n",
              "    box-shadow: 0 1px 2px rgba(60, 64, 67, 0.3), 0 1px 3px 1px rgba(60, 64, 67, 0.15);\n",
              "    fill: var(--button-hover-fill-color);\n",
              "  }\n",
              "\n",
              "  .colab-df-quickchart-complete:disabled,\n",
              "  .colab-df-quickchart-complete:disabled:hover {\n",
              "    background-color: var(--disabled-bg-color);\n",
              "    fill: var(--disabled-fill-color);\n",
              "    box-shadow: none;\n",
              "  }\n",
              "\n",
              "  .colab-df-spinner {\n",
              "    border: 2px solid var(--fill-color);\n",
              "    border-color: transparent;\n",
              "    border-bottom-color: var(--fill-color);\n",
              "    animation:\n",
              "      spin 1s steps(1) infinite;\n",
              "  }\n",
              "\n",
              "  @keyframes spin {\n",
              "    0% {\n",
              "      border-color: transparent;\n",
              "      border-bottom-color: var(--fill-color);\n",
              "      border-left-color: var(--fill-color);\n",
              "    }\n",
              "    20% {\n",
              "      border-color: transparent;\n",
              "      border-left-color: var(--fill-color);\n",
              "      border-top-color: var(--fill-color);\n",
              "    }\n",
              "    30% {\n",
              "      border-color: transparent;\n",
              "      border-left-color: var(--fill-color);\n",
              "      border-top-color: var(--fill-color);\n",
              "      border-right-color: var(--fill-color);\n",
              "    }\n",
              "    40% {\n",
              "      border-color: transparent;\n",
              "      border-right-color: var(--fill-color);\n",
              "      border-top-color: var(--fill-color);\n",
              "    }\n",
              "    60% {\n",
              "      border-color: transparent;\n",
              "      border-right-color: var(--fill-color);\n",
              "    }\n",
              "    80% {\n",
              "      border-color: transparent;\n",
              "      border-right-color: var(--fill-color);\n",
              "      border-bottom-color: var(--fill-color);\n",
              "    }\n",
              "    90% {\n",
              "      border-color: transparent;\n",
              "      border-bottom-color: var(--fill-color);\n",
              "    }\n",
              "  }\n",
              "</style>\n",
              "\n",
              "  <script>\n",
              "    async function quickchart(key) {\n",
              "      const quickchartButtonEl =\n",
              "        document.querySelector('#' + key + ' button');\n",
              "      quickchartButtonEl.disabled = true;  // To prevent multiple clicks.\n",
              "      quickchartButtonEl.classList.add('colab-df-spinner');\n",
              "      try {\n",
              "        const charts = await google.colab.kernel.invokeFunction(\n",
              "            'suggestCharts', [key], {});\n",
              "      } catch (error) {\n",
              "        console.error('Error during call to suggestCharts:', error);\n",
              "      }\n",
              "      quickchartButtonEl.classList.remove('colab-df-spinner');\n",
              "      quickchartButtonEl.classList.add('colab-df-quickchart-complete');\n",
              "    }\n",
              "    (() => {\n",
              "      let quickchartButtonEl =\n",
              "        document.querySelector('#df-e706926c-347c-4ca9-8560-8bf12e14268e button');\n",
              "      quickchartButtonEl.style.display =\n",
              "        google.colab.kernel.accessAllowed ? 'block' : 'none';\n",
              "    })();\n",
              "  </script>\n",
              "</div>\n",
              "\n",
              "  <div id=\"id_6f175693-c509-4e2a-8bfe-59408a0f3cfc\">\n",
              "    <style>\n",
              "      .colab-df-generate {\n",
              "        background-color: #E8F0FE;\n",
              "        border: none;\n",
              "        border-radius: 50%;\n",
              "        cursor: pointer;\n",
              "        display: none;\n",
              "        fill: #1967D2;\n",
              "        height: 32px;\n",
              "        padding: 0 0 0 0;\n",
              "        width: 32px;\n",
              "      }\n",
              "\n",
              "      .colab-df-generate:hover {\n",
              "        background-color: #E2EBFA;\n",
              "        box-shadow: 0px 1px 2px rgba(60, 64, 67, 0.3), 0px 1px 3px 1px rgba(60, 64, 67, 0.15);\n",
              "        fill: #174EA6;\n",
              "      }\n",
              "\n",
              "      [theme=dark] .colab-df-generate {\n",
              "        background-color: #3B4455;\n",
              "        fill: #D2E3FC;\n",
              "      }\n",
              "\n",
              "      [theme=dark] .colab-df-generate:hover {\n",
              "        background-color: #434B5C;\n",
              "        box-shadow: 0px 1px 3px 1px rgba(0, 0, 0, 0.15);\n",
              "        filter: drop-shadow(0px 1px 2px rgba(0, 0, 0, 0.3));\n",
              "        fill: #FFFFFF;\n",
              "      }\n",
              "    </style>\n",
              "    <button class=\"colab-df-generate\" onclick=\"generateWithVariable('sample2')\"\n",
              "            title=\"Generate code using this dataframe.\"\n",
              "            style=\"display:none;\">\n",
              "\n",
              "  <svg xmlns=\"http://www.w3.org/2000/svg\" height=\"24px\"viewBox=\"0 0 24 24\"\n",
              "       width=\"24px\">\n",
              "    <path d=\"M7,19H8.4L18.45,9,17,7.55,7,17.6ZM5,21V16.75L18.45,3.32a2,2,0,0,1,2.83,0l1.4,1.43a1.91,1.91,0,0,1,.58,1.4,1.91,1.91,0,0,1-.58,1.4L9.25,21ZM18.45,9,17,7.55Zm-12,3A5.31,5.31,0,0,0,4.9,8.1,5.31,5.31,0,0,0,1,6.5,5.31,5.31,0,0,0,4.9,4.9,5.31,5.31,0,0,0,6.5,1,5.31,5.31,0,0,0,8.1,4.9,5.31,5.31,0,0,0,12,6.5,5.46,5.46,0,0,0,6.5,12Z\"/>\n",
              "  </svg>\n",
              "    </button>\n",
              "    <script>\n",
              "      (() => {\n",
              "      const buttonEl =\n",
              "        document.querySelector('#id_6f175693-c509-4e2a-8bfe-59408a0f3cfc button.colab-df-generate');\n",
              "      buttonEl.style.display =\n",
              "        google.colab.kernel.accessAllowed ? 'block' : 'none';\n",
              "\n",
              "      buttonEl.onclick = () => {\n",
              "        google.colab.notebook.generateWithVariable('sample2');\n",
              "      }\n",
              "      })();\n",
              "    </script>\n",
              "  </div>\n",
              "\n",
              "    </div>\n",
              "  </div>\n"
            ],
            "application/vnd.google.colaboratory.intrinsic+json": {
              "type": "dataframe",
              "variable_name": "sample2",
              "summary": "{\n  \"name\": \"sample2\",\n  \"rows\": 1017,\n  \"fields\": [\n    {\n      \"column\": \"DSmajor\",\n      \"properties\": {\n        \"dtype\": \"number\",\n        \"std\": 0,\n        \"min\": 0,\n        \"max\": 1,\n        \"num_unique_values\": 2,\n        \"samples\": [\n          0,\n          1\n        ],\n        \"semantic_type\": \"\",\n        \"description\": \"\"\n      }\n    },\n    {\n      \"column\": \"FollowsDuo\",\n      \"properties\": {\n        \"dtype\": \"number\",\n        \"std\": 0,\n        \"min\": 0,\n        \"max\": 1,\n        \"num_unique_values\": 2,\n        \"samples\": [\n          0,\n          1\n        ],\n        \"semantic_type\": \"\",\n        \"description\": \"\"\n      }\n    },\n    {\n      \"column\": \"ProKingfisher\",\n      \"properties\": {\n        \"dtype\": \"number\",\n        \"std\": 0,\n        \"min\": 0,\n        \"max\": 1,\n        \"num_unique_values\": 2,\n        \"samples\": [\n          0,\n          1\n        ],\n        \"semantic_type\": \"\",\n        \"description\": \"\"\n      }\n    }\n  ]\n}"
            }
          },
          "metadata": {},
          "execution_count": 31
        }
      ],
      "source": [
        "sample2 = DISCOVERY_populations.getExpensiveSample()\n",
        "sample2"
      ]
    },
    {
      "cell_type": "markdown",
      "metadata": {
        "id": "7SHcj4wj7jdM"
      },
      "source": [
        "### Part 2.2: Finding the Confidence Interval for Kingfisher Support\n",
        "\n",
        "Find the lower and upper bounds for the 95% CI for the support of the Kingfisher mascot, storing them in `kingfisher_CI_lower` and `kingfisher_CI_upper`.  We provided individual cells for each stage of the computation, and you should make sure your answer is reasonable at each step. We also want your answers as percentages between 0 and 100 percent.\n",
        "\n",
        "Make sure you're using `sample2` since you have the better, more expensive sample now! :)"
      ]
    },
    {
      "cell_type": "code",
      "execution_count": 42,
      "metadata": {
        "id": "X_CWCTDA7jdM"
      },
      "outputs": [],
      "source": [
        "# Step 1: Find the samplePercent:\n",
        "\n",
        "samplePercent2 = sample2.ProKingfisher.mean()*100"
      ]
    },
    {
      "cell_type": "code",
      "execution_count": 34,
      "metadata": {
        "id": "NDZHb2Cn7jdM",
        "colab": {
          "base_uri": "https://localhost:8080/"
        },
        "outputId": "e46e097e-054c-462b-bfe7-c79417a88a82"
      },
      "outputs": [
        {
          "output_type": "execute_result",
          "data": {
            "text/plain": [
              "1.959963984540054"
            ]
          },
          "metadata": {},
          "execution_count": 34
        }
      ],
      "source": [
        "# Step 2: Find the z-score for the 95% CI:\n",
        "from scipy.stats import norm\n",
        "z = norm.ppf(0.95 + 0.025)\n",
        "z"
      ]
    },
    {
      "cell_type": "code",
      "execution_count": 37,
      "metadata": {
        "id": "WpaHcdzv7jdM",
        "colab": {
          "base_uri": "https://localhost:8080/"
        },
        "outputId": "bd125f95-6207-4e3b-be2f-a43d5223a522"
      },
      "outputs": [
        {
          "output_type": "execute_result",
          "data": {
            "text/plain": [
              "1.4265160619173862"
            ]
          },
          "metadata": {},
          "execution_count": 37
        }
      ],
      "source": [
        "# Step 3: Find the sampleSE:\n",
        "n2= len (sample2)\n",
        "\n",
        "sampleSE2= (sample2[\"ProKingfisher\"].std()/(n2**0.5))* 100\n",
        "\n",
        "sampleSE2"
      ]
    },
    {
      "cell_type": "code",
      "execution_count": 40,
      "metadata": {
        "id": "Ci7BkK7A7jdM",
        "colab": {
          "base_uri": "https://localhost:8080/"
        },
        "outputId": "3994ab0b-2497-4a9d-f92b-91dafa8ef547"
      },
      "outputs": [
        {
          "output_type": "execute_result",
          "data": {
            "text/plain": [
              "0.02795920104725987"
            ]
          },
          "metadata": {},
          "execution_count": 40
        }
      ],
      "source": [
        "# Step 4: Find the margin of error:\n",
        "from scipy.stats import norm\n",
        "z2 = norm.ppf(0.95 + 0.025)\n",
        "\n",
        "\n",
        "(sample2[\"ProKingfisher\"].std()/(n2**0.5))* z2"
      ]
    },
    {
      "cell_type": "code",
      "execution_count": 43,
      "metadata": {
        "id": "E-xH3S5a7jdN",
        "colab": {
          "base_uri": "https://localhost:8080/"
        },
        "outputId": "3b05d786-2103-4467-d4b1-fe7dfdee9963"
      },
      "outputs": [
        {
          "output_type": "execute_result",
          "data": {
            "text/plain": [
              "68.00054007226515"
            ]
          },
          "metadata": {},
          "execution_count": 43
        }
      ],
      "source": [
        "# Find the lower bound of the CI:\n",
        "kingfisher_CI_lower = samplePercent2 -(z2*sampleSE2)\n",
        "kingfisher_CI_lower"
      ]
    },
    {
      "cell_type": "code",
      "execution_count": 44,
      "metadata": {
        "id": "1uzuyhx37jdN",
        "colab": {
          "base_uri": "https://localhost:8080/"
        },
        "outputId": "a2a12674-5e3c-4f93-d69e-8388b9419dc7"
      },
      "outputs": [
        {
          "output_type": "execute_result",
          "data": {
            "text/plain": [
              "73.59238028171714"
            ]
          },
          "metadata": {},
          "execution_count": 44
        }
      ],
      "source": [
        "# Find the upper bound of the CI:\n",
        "kingfisher_CI_upper = samplePercent2 + (z2*sampleSE2)\n",
        "kingfisher_CI_upper"
      ]
    },
    {
      "cell_type": "code",
      "execution_count": 45,
      "metadata": {
        "id": "8ywNZGJK7jdN",
        "colab": {
          "base_uri": "https://localhost:8080/"
        },
        "outputId": "21dfce87-ee8f-4b63-a634-987a5263a7b8"
      },
      "outputs": [
        {
          "output_type": "stream",
          "name": "stdout",
          "text": [
            "🎉 All tests passed! 🎉\n"
          ]
        }
      ],
      "source": [
        "## == CHECKPOINT TEST CASES ==\n",
        "# - This read-only cell contains test cases for your previous cell.\n",
        "# - If this cell runs without any errors, you PASSED all test cases!\n",
        "# - If this cell results in any errors, check your previous cell, make changes, and RE-RUN your code and then this cell.\n",
        "import math\n",
        "from scipy.stats import norm\n",
        "\n",
        "F = sample2.ProKingfisher\n",
        "N = norm(F.mean(), F.std() / (len(F)**0.5))\n",
        "low, high = N.interval(0.95)\n",
        "assert(kingfisher_CI_upper > kingfisher_CI_lower), \"The upper bound must be larger than the lower bound.\"\n",
        "assert( math.isclose(kingfisher_CI_lower, low * 100) ), \"Check your `kingfisher_CI_lower` calculation\"\n",
        "assert( math.isclose(kingfisher_CI_upper, high * 100) ), \"Check your `kingfisher_CI_upper` calculation\"\n",
        "\n",
        "## == SUCCESS MESSAGE ==\n",
        "# You will only see this message (with the emoji showing) if you passed all test cases:\n",
        "tada = \"\\N{PARTY POPPER}\"\n",
        "print(f\"{tada} All tests passed! {tada}\")"
      ]
    },
    {
      "cell_type": "markdown",
      "metadata": {
        "id": "NZDSDmVC7jdN"
      },
      "source": [
        "### Part 2.3: Reflections"
      ]
    },
    {
      "cell_type": "markdown",
      "metadata": {
        "id": "hfJuVmjn7jdN"
      },
      "source": [
        "**Q6**: Write out the interpretation of your confidence interval in a complete sentence."
      ]
    },
    {
      "cell_type": "markdown",
      "metadata": {
        "id": "pyDuySfQ7jdN"
      },
      "source": [
        "*(✏️ Edit this cell to replace this text with your answers. ✏️)*"
      ]
    },
    {
      "cell_type": "markdown",
      "metadata": {
        "id": "tMoX4ayp7jdN"
      },
      "source": [
        "**Q7**: If the whole population voted on if the next mascot should be the Kingfisher, how confident are you that the resolution will pass (that is, receive at least 50% of the vote)? Explain in at least one complete sentence how the data analysis you did backs up your confidence."
      ]
    },
    {
      "cell_type": "markdown",
      "metadata": {
        "id": "Hu3VJ3Zx7jdN"
      },
      "source": [
        "*(✏️ Edit this cell to replace this text with your answers. ✏️)*"
      ]
    },
    {
      "cell_type": "markdown",
      "metadata": {
        "id": "e4gZPUW67jdN"
      },
      "source": [
        "**Q8**: Is the confidence interval of your larger (and more expensive) sample larger (wider) or smaller (narrower) than the first sample?  Explain in at least one complete sentence."
      ]
    },
    {
      "cell_type": "markdown",
      "metadata": {
        "id": "UtUUzh2b7jdN"
      },
      "source": [
        "*(✏️ Edit this cell to replace this text with your answers. ✏️)*"
      ]
    },
    {
      "cell_type": "markdown",
      "metadata": {
        "id": "jy2vdSY17jdN"
      },
      "source": [
        "<hr style=\"color: #DD3403;\">"
      ]
    },
    {
      "cell_type": "markdown",
      "metadata": {
        "id": "p6y2F8xv7jdN"
      },
      "source": [
        "## Part 3: The Election is Here!\n",
        "\n",
        "The polling is complete and the election day is here!  Run the following code to find your election-day results:"
      ]
    },
    {
      "cell_type": "code",
      "execution_count": 46,
      "metadata": {
        "id": "g5STdBIx7jdN",
        "colab": {
          "base_uri": "https://localhost:8080/"
        },
        "outputId": "02299439-695d-4bb2-8175-0ebdca57e5b9"
      },
      "outputs": [
        {
          "output_type": "stream",
          "name": "stdout",
          "text": [
            "The election was held and 20% of the population voted.\n",
            "\n",
            "== Kingfisher Support ==\n",
            "SUPPORT KINGFISHER: 28001 70.0%\n",
            "OPPOSE KINGFISHER : 11999 30.0%\n",
            "\n",
            "== Follows @datascienceduo ==\n",
            "FOLLOWS DUO    : 20810 52.02%\n",
            "DOES NOT FOLLOW: 19190 47.98%\n"
          ]
        }
      ],
      "source": [
        "DISCOVERY_populations.electionDay()"
      ]
    },
    {
      "cell_type": "markdown",
      "metadata": {
        "id": "A4OV5TSC7jdN"
      },
      "source": [
        "**Q9**: In at least one complete sentence, explain if your analysis of the samples accurately predicted the outcomes."
      ]
    },
    {
      "cell_type": "markdown",
      "metadata": {
        "id": "Bp_dJpOq7jdN"
      },
      "source": [
        "*(✏️ Edit this cell to replace this text with your answers. ✏️)*"
      ]
    },
    {
      "cell_type": "markdown",
      "metadata": {
        "id": "IaZSWJTs7jdO"
      },
      "source": [
        "<hr style=\"color: #DD3403;\">"
      ]
    }
  ],
  "metadata": {
    "kernelspec": {
      "display_name": "Python 3",
      "language": "python",
      "name": "python3"
    },
    "language_info": {
      "codemirror_mode": {
        "name": "ipython",
        "version": 3
      },
      "file_extension": ".py",
      "mimetype": "text/x-python",
      "name": "python",
      "nbconvert_exporter": "python",
      "pygments_lexer": "ipython3",
      "version": "3.11.9"
    },
    "colab": {
      "provenance": [],
      "include_colab_link": true
    }
  },
  "nbformat": 4,
  "nbformat_minor": 0
}