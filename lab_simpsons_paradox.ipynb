{
  "cells": [
    {
      "cell_type": "markdown",
      "metadata": {
        "id": "view-in-github",
        "colab_type": "text"
      },
      "source": [
        "<a href=\"https://colab.research.google.com/github/pdesire-20/Lab6/blob/main/lab_simpsons_paradox.ipynb\" target=\"_parent\"><img src=\"https://colab.research.google.com/assets/colab-badge.svg\" alt=\"Open In Colab\"/></a>"
      ]
    },
    {
      "cell_type": "markdown",
      "metadata": {
        "id": "lJFN3rj4mFwQ"
      },
      "source": [
        "# Welcome to Lab: Simpson's Paradox 🔬\n",
        "\n",
        "Before this lab section, you learned about Simpson's Paradox and confounding variables in lecture.  This week, you will find Simpson's Paradox through analysis of a dataset in Python, and get some practice writing conditionals for pandas DataFrames!\n",
        "\n",
        "A few tips to remember:\n",
        "\n",
        "- **You are not alone on your journey in learning programming!**\n",
        "- If you find yourself stuck for more than a few minutes, ask a neighbor or course staff for help!  When you are giving help to your neighbor, explain the **idea and approach** to the problem without sharing the answer itself so they can have the same **<i>ah-hah</i>** moment!\n",
        "- We are here to help you!  Don't feel embarrassed or shy to ask us for help!\n",
        "\n",
        "Let's get started!"
      ]
    },
    {
      "cell_type": "markdown",
      "metadata": {
        "id": "YJUft7Q_mFwV"
      },
      "source": [
        "# Part 1: The GPA Dataset\n",
        "\n",
        "The GPA dataset contains data about every section of every course at UIUC. Using this data, we can analyze how students are doing in each class.\n",
        "\n",
        "Simpson's paradox is when there is a trend in a *subset* of the data, but is completely reversed when you look at the data as a whole.\n",
        "\n",
        "![image.png](https://upload.wikimedia.org/wikipedia/commons/f/fb/Simpsons_paradox_-_animation.gif)\n",
        "\n",
        "Picture credit: Wikipedia"
      ]
    },
    {
      "cell_type": "markdown",
      "metadata": {
        "id": "BHkhF_yTmFwV"
      },
      "source": [
        "## Load the GPA Dataset\n",
        "\n",
        "The most recent version of the \"GPA Dataset\" is available here:\n",
        "```\n",
        "https://waf.cs.illinois.edu/discovery/gpa.csv\n",
        "```\n",
        "\n",
        "Use Python to load this dataset into a DataFrame called `df`:"
      ]
    },
    {
      "cell_type": "code",
      "execution_count": 6,
      "metadata": {
        "id": "1nA5jotimFwV",
        "colab": {
          "base_uri": "https://localhost:8080/",
          "height": 614
        },
        "outputId": "f6938257-9ddc-4cda-c214-dfa01b3ffa10"
      },
      "outputs": [
        {
          "output_type": "execute_result",
          "data": {
            "text/plain": [
              "       Year    Term YearTerm Subject  Number                   Course Title  \\\n",
              "0      2023  Spring  2023-sp     AAS     100   Intro Asian American Studies   \n",
              "1      2023  Spring  2023-sp     AAS     100   Intro Asian American Studies   \n",
              "2      2023  Spring  2023-sp     AAS     100   Intro Asian American Studies   \n",
              "3      2023  Spring  2023-sp     AAS     200           U.S. Race and Empire   \n",
              "4      2023  Spring  2023-sp     AAS     215   US Citizenship Comparatively   \n",
              "...     ...     ...      ...     ...     ...                            ...   \n",
              "69064  2010  Summer  2010-su    STAT     410  Statistics and Probability II   \n",
              "69065  2010  Summer  2010-su    STAT     440    Statistical Data Management   \n",
              "69066  2010  Summer  2010-su     TAM     212          Introductory Dynamics   \n",
              "69067  2010  Summer  2010-su     TAM     251   Introductory Solid Mechanics   \n",
              "69068  2010  Summer  2010-su     TAM     335   Introductory Fluid Mechanics   \n",
              "\n",
              "      Sched Type  A+   A  A-  ...  C+  C  C-  D+  D  D-  F  W  Students  \\\n",
              "0            DIS   0  11   5  ...   0  0   0   0  0   0  1  0        22   \n",
              "1            DIS   0  17   2  ...   0  0   0   0  0   0  0  1        23   \n",
              "2            DIS   0  13   2  ...   0  0   1   0  0   0  1  0        21   \n",
              "3            LCD   6  15   5  ...   0  0   0   0  1   0  1  0        33   \n",
              "4            LCD  16  12   2  ...   0  0   0   0  0   0  0  0        33   \n",
              "...          ...  ..  ..  ..  ...  .. ..  ..  .. ..  .. .. ..       ...   \n",
              "69064        LEC   5  10   2  ...   0  1   3   0  0   0  2  1        31   \n",
              "69065        LEC   4  12   8  ...   0  0   0   0  0   0  0  0        28   \n",
              "69066        LEC   0   1   3  ...   5  1   1   0  2   0  1  0        28   \n",
              "69067        LCD   1   2   2  ...   3  3   2   0  0   1  1  0        21   \n",
              "69068        LEC   5   8   9  ...   0  4   0   0  1   0  2  0        39   \n",
              "\n",
              "             Primary Instructor  \n",
              "0                 Shin, Jeongsu  \n",
              "1                 Shin, Jeongsu  \n",
              "2                Lee, Sabrina Y  \n",
              "3                Sawada, Emilia  \n",
              "4                  Kwon, Soo Ah  \n",
              "...                         ...  \n",
              "69064        Stepanov, Alexei G  \n",
              "69065              Unger, David  \n",
              "69066         Morgan, William T  \n",
              "69067  Ott-Monsivais, Stephanie  \n",
              "69068          Keane, Richard D  \n",
              "\n",
              "[69069 rows x 23 columns]"
            ],
            "text/html": [
              "\n",
              "  <div id=\"df-c6d4de40-a2fb-478d-81fa-bd4280cbda61\" class=\"colab-df-container\">\n",
              "    <div>\n",
              "<style scoped>\n",
              "    .dataframe tbody tr th:only-of-type {\n",
              "        vertical-align: middle;\n",
              "    }\n",
              "\n",
              "    .dataframe tbody tr th {\n",
              "        vertical-align: top;\n",
              "    }\n",
              "\n",
              "    .dataframe thead th {\n",
              "        text-align: right;\n",
              "    }\n",
              "</style>\n",
              "<table border=\"1\" class=\"dataframe\">\n",
              "  <thead>\n",
              "    <tr style=\"text-align: right;\">\n",
              "      <th></th>\n",
              "      <th>Year</th>\n",
              "      <th>Term</th>\n",
              "      <th>YearTerm</th>\n",
              "      <th>Subject</th>\n",
              "      <th>Number</th>\n",
              "      <th>Course Title</th>\n",
              "      <th>Sched Type</th>\n",
              "      <th>A+</th>\n",
              "      <th>A</th>\n",
              "      <th>A-</th>\n",
              "      <th>...</th>\n",
              "      <th>C+</th>\n",
              "      <th>C</th>\n",
              "      <th>C-</th>\n",
              "      <th>D+</th>\n",
              "      <th>D</th>\n",
              "      <th>D-</th>\n",
              "      <th>F</th>\n",
              "      <th>W</th>\n",
              "      <th>Students</th>\n",
              "      <th>Primary Instructor</th>\n",
              "    </tr>\n",
              "  </thead>\n",
              "  <tbody>\n",
              "    <tr>\n",
              "      <th>0</th>\n",
              "      <td>2023</td>\n",
              "      <td>Spring</td>\n",
              "      <td>2023-sp</td>\n",
              "      <td>AAS</td>\n",
              "      <td>100</td>\n",
              "      <td>Intro Asian American Studies</td>\n",
              "      <td>DIS</td>\n",
              "      <td>0</td>\n",
              "      <td>11</td>\n",
              "      <td>5</td>\n",
              "      <td>...</td>\n",
              "      <td>0</td>\n",
              "      <td>0</td>\n",
              "      <td>0</td>\n",
              "      <td>0</td>\n",
              "      <td>0</td>\n",
              "      <td>0</td>\n",
              "      <td>1</td>\n",
              "      <td>0</td>\n",
              "      <td>22</td>\n",
              "      <td>Shin, Jeongsu</td>\n",
              "    </tr>\n",
              "    <tr>\n",
              "      <th>1</th>\n",
              "      <td>2023</td>\n",
              "      <td>Spring</td>\n",
              "      <td>2023-sp</td>\n",
              "      <td>AAS</td>\n",
              "      <td>100</td>\n",
              "      <td>Intro Asian American Studies</td>\n",
              "      <td>DIS</td>\n",
              "      <td>0</td>\n",
              "      <td>17</td>\n",
              "      <td>2</td>\n",
              "      <td>...</td>\n",
              "      <td>0</td>\n",
              "      <td>0</td>\n",
              "      <td>0</td>\n",
              "      <td>0</td>\n",
              "      <td>0</td>\n",
              "      <td>0</td>\n",
              "      <td>0</td>\n",
              "      <td>1</td>\n",
              "      <td>23</td>\n",
              "      <td>Shin, Jeongsu</td>\n",
              "    </tr>\n",
              "    <tr>\n",
              "      <th>2</th>\n",
              "      <td>2023</td>\n",
              "      <td>Spring</td>\n",
              "      <td>2023-sp</td>\n",
              "      <td>AAS</td>\n",
              "      <td>100</td>\n",
              "      <td>Intro Asian American Studies</td>\n",
              "      <td>DIS</td>\n",
              "      <td>0</td>\n",
              "      <td>13</td>\n",
              "      <td>2</td>\n",
              "      <td>...</td>\n",
              "      <td>0</td>\n",
              "      <td>0</td>\n",
              "      <td>1</td>\n",
              "      <td>0</td>\n",
              "      <td>0</td>\n",
              "      <td>0</td>\n",
              "      <td>1</td>\n",
              "      <td>0</td>\n",
              "      <td>21</td>\n",
              "      <td>Lee, Sabrina Y</td>\n",
              "    </tr>\n",
              "    <tr>\n",
              "      <th>3</th>\n",
              "      <td>2023</td>\n",
              "      <td>Spring</td>\n",
              "      <td>2023-sp</td>\n",
              "      <td>AAS</td>\n",
              "      <td>200</td>\n",
              "      <td>U.S. Race and Empire</td>\n",
              "      <td>LCD</td>\n",
              "      <td>6</td>\n",
              "      <td>15</td>\n",
              "      <td>5</td>\n",
              "      <td>...</td>\n",
              "      <td>0</td>\n",
              "      <td>0</td>\n",
              "      <td>0</td>\n",
              "      <td>0</td>\n",
              "      <td>1</td>\n",
              "      <td>0</td>\n",
              "      <td>1</td>\n",
              "      <td>0</td>\n",
              "      <td>33</td>\n",
              "      <td>Sawada, Emilia</td>\n",
              "    </tr>\n",
              "    <tr>\n",
              "      <th>4</th>\n",
              "      <td>2023</td>\n",
              "      <td>Spring</td>\n",
              "      <td>2023-sp</td>\n",
              "      <td>AAS</td>\n",
              "      <td>215</td>\n",
              "      <td>US Citizenship Comparatively</td>\n",
              "      <td>LCD</td>\n",
              "      <td>16</td>\n",
              "      <td>12</td>\n",
              "      <td>2</td>\n",
              "      <td>...</td>\n",
              "      <td>0</td>\n",
              "      <td>0</td>\n",
              "      <td>0</td>\n",
              "      <td>0</td>\n",
              "      <td>0</td>\n",
              "      <td>0</td>\n",
              "      <td>0</td>\n",
              "      <td>0</td>\n",
              "      <td>33</td>\n",
              "      <td>Kwon, Soo Ah</td>\n",
              "    </tr>\n",
              "    <tr>\n",
              "      <th>...</th>\n",
              "      <td>...</td>\n",
              "      <td>...</td>\n",
              "      <td>...</td>\n",
              "      <td>...</td>\n",
              "      <td>...</td>\n",
              "      <td>...</td>\n",
              "      <td>...</td>\n",
              "      <td>...</td>\n",
              "      <td>...</td>\n",
              "      <td>...</td>\n",
              "      <td>...</td>\n",
              "      <td>...</td>\n",
              "      <td>...</td>\n",
              "      <td>...</td>\n",
              "      <td>...</td>\n",
              "      <td>...</td>\n",
              "      <td>...</td>\n",
              "      <td>...</td>\n",
              "      <td>...</td>\n",
              "      <td>...</td>\n",
              "      <td>...</td>\n",
              "    </tr>\n",
              "    <tr>\n",
              "      <th>69064</th>\n",
              "      <td>2010</td>\n",
              "      <td>Summer</td>\n",
              "      <td>2010-su</td>\n",
              "      <td>STAT</td>\n",
              "      <td>410</td>\n",
              "      <td>Statistics and Probability II</td>\n",
              "      <td>LEC</td>\n",
              "      <td>5</td>\n",
              "      <td>10</td>\n",
              "      <td>2</td>\n",
              "      <td>...</td>\n",
              "      <td>0</td>\n",
              "      <td>1</td>\n",
              "      <td>3</td>\n",
              "      <td>0</td>\n",
              "      <td>0</td>\n",
              "      <td>0</td>\n",
              "      <td>2</td>\n",
              "      <td>1</td>\n",
              "      <td>31</td>\n",
              "      <td>Stepanov, Alexei G</td>\n",
              "    </tr>\n",
              "    <tr>\n",
              "      <th>69065</th>\n",
              "      <td>2010</td>\n",
              "      <td>Summer</td>\n",
              "      <td>2010-su</td>\n",
              "      <td>STAT</td>\n",
              "      <td>440</td>\n",
              "      <td>Statistical Data Management</td>\n",
              "      <td>LEC</td>\n",
              "      <td>4</td>\n",
              "      <td>12</td>\n",
              "      <td>8</td>\n",
              "      <td>...</td>\n",
              "      <td>0</td>\n",
              "      <td>0</td>\n",
              "      <td>0</td>\n",
              "      <td>0</td>\n",
              "      <td>0</td>\n",
              "      <td>0</td>\n",
              "      <td>0</td>\n",
              "      <td>0</td>\n",
              "      <td>28</td>\n",
              "      <td>Unger, David</td>\n",
              "    </tr>\n",
              "    <tr>\n",
              "      <th>69066</th>\n",
              "      <td>2010</td>\n",
              "      <td>Summer</td>\n",
              "      <td>2010-su</td>\n",
              "      <td>TAM</td>\n",
              "      <td>212</td>\n",
              "      <td>Introductory Dynamics</td>\n",
              "      <td>LEC</td>\n",
              "      <td>0</td>\n",
              "      <td>1</td>\n",
              "      <td>3</td>\n",
              "      <td>...</td>\n",
              "      <td>5</td>\n",
              "      <td>1</td>\n",
              "      <td>1</td>\n",
              "      <td>0</td>\n",
              "      <td>2</td>\n",
              "      <td>0</td>\n",
              "      <td>1</td>\n",
              "      <td>0</td>\n",
              "      <td>28</td>\n",
              "      <td>Morgan, William T</td>\n",
              "    </tr>\n",
              "    <tr>\n",
              "      <th>69067</th>\n",
              "      <td>2010</td>\n",
              "      <td>Summer</td>\n",
              "      <td>2010-su</td>\n",
              "      <td>TAM</td>\n",
              "      <td>251</td>\n",
              "      <td>Introductory Solid Mechanics</td>\n",
              "      <td>LCD</td>\n",
              "      <td>1</td>\n",
              "      <td>2</td>\n",
              "      <td>2</td>\n",
              "      <td>...</td>\n",
              "      <td>3</td>\n",
              "      <td>3</td>\n",
              "      <td>2</td>\n",
              "      <td>0</td>\n",
              "      <td>0</td>\n",
              "      <td>1</td>\n",
              "      <td>1</td>\n",
              "      <td>0</td>\n",
              "      <td>21</td>\n",
              "      <td>Ott-Monsivais, Stephanie</td>\n",
              "    </tr>\n",
              "    <tr>\n",
              "      <th>69068</th>\n",
              "      <td>2010</td>\n",
              "      <td>Summer</td>\n",
              "      <td>2010-su</td>\n",
              "      <td>TAM</td>\n",
              "      <td>335</td>\n",
              "      <td>Introductory Fluid Mechanics</td>\n",
              "      <td>LEC</td>\n",
              "      <td>5</td>\n",
              "      <td>8</td>\n",
              "      <td>9</td>\n",
              "      <td>...</td>\n",
              "      <td>0</td>\n",
              "      <td>4</td>\n",
              "      <td>0</td>\n",
              "      <td>0</td>\n",
              "      <td>1</td>\n",
              "      <td>0</td>\n",
              "      <td>2</td>\n",
              "      <td>0</td>\n",
              "      <td>39</td>\n",
              "      <td>Keane, Richard D</td>\n",
              "    </tr>\n",
              "  </tbody>\n",
              "</table>\n",
              "<p>69069 rows × 23 columns</p>\n",
              "</div>\n",
              "    <div class=\"colab-df-buttons\">\n",
              "\n",
              "  <div class=\"colab-df-container\">\n",
              "    <button class=\"colab-df-convert\" onclick=\"convertToInteractive('df-c6d4de40-a2fb-478d-81fa-bd4280cbda61')\"\n",
              "            title=\"Convert this dataframe to an interactive table.\"\n",
              "            style=\"display:none;\">\n",
              "\n",
              "  <svg xmlns=\"http://www.w3.org/2000/svg\" height=\"24px\" viewBox=\"0 -960 960 960\">\n",
              "    <path d=\"M120-120v-720h720v720H120Zm60-500h600v-160H180v160Zm220 220h160v-160H400v160Zm0 220h160v-160H400v160ZM180-400h160v-160H180v160Zm440 0h160v-160H620v160ZM180-180h160v-160H180v160Zm440 0h160v-160H620v160Z\"/>\n",
              "  </svg>\n",
              "    </button>\n",
              "\n",
              "  <style>\n",
              "    .colab-df-container {\n",
              "      display:flex;\n",
              "      gap: 12px;\n",
              "    }\n",
              "\n",
              "    .colab-df-convert {\n",
              "      background-color: #E8F0FE;\n",
              "      border: none;\n",
              "      border-radius: 50%;\n",
              "      cursor: pointer;\n",
              "      display: none;\n",
              "      fill: #1967D2;\n",
              "      height: 32px;\n",
              "      padding: 0 0 0 0;\n",
              "      width: 32px;\n",
              "    }\n",
              "\n",
              "    .colab-df-convert:hover {\n",
              "      background-color: #E2EBFA;\n",
              "      box-shadow: 0px 1px 2px rgba(60, 64, 67, 0.3), 0px 1px 3px 1px rgba(60, 64, 67, 0.15);\n",
              "      fill: #174EA6;\n",
              "    }\n",
              "\n",
              "    .colab-df-buttons div {\n",
              "      margin-bottom: 4px;\n",
              "    }\n",
              "\n",
              "    [theme=dark] .colab-df-convert {\n",
              "      background-color: #3B4455;\n",
              "      fill: #D2E3FC;\n",
              "    }\n",
              "\n",
              "    [theme=dark] .colab-df-convert:hover {\n",
              "      background-color: #434B5C;\n",
              "      box-shadow: 0px 1px 3px 1px rgba(0, 0, 0, 0.15);\n",
              "      filter: drop-shadow(0px 1px 2px rgba(0, 0, 0, 0.3));\n",
              "      fill: #FFFFFF;\n",
              "    }\n",
              "  </style>\n",
              "\n",
              "    <script>\n",
              "      const buttonEl =\n",
              "        document.querySelector('#df-c6d4de40-a2fb-478d-81fa-bd4280cbda61 button.colab-df-convert');\n",
              "      buttonEl.style.display =\n",
              "        google.colab.kernel.accessAllowed ? 'block' : 'none';\n",
              "\n",
              "      async function convertToInteractive(key) {\n",
              "        const element = document.querySelector('#df-c6d4de40-a2fb-478d-81fa-bd4280cbda61');\n",
              "        const dataTable =\n",
              "          await google.colab.kernel.invokeFunction('convertToInteractive',\n",
              "                                                    [key], {});\n",
              "        if (!dataTable) return;\n",
              "\n",
              "        const docLinkHtml = 'Like what you see? Visit the ' +\n",
              "          '<a target=\"_blank\" href=https://colab.research.google.com/notebooks/data_table.ipynb>data table notebook</a>'\n",
              "          + ' to learn more about interactive tables.';\n",
              "        element.innerHTML = '';\n",
              "        dataTable['output_type'] = 'display_data';\n",
              "        await google.colab.output.renderOutput(dataTable, element);\n",
              "        const docLink = document.createElement('div');\n",
              "        docLink.innerHTML = docLinkHtml;\n",
              "        element.appendChild(docLink);\n",
              "      }\n",
              "    </script>\n",
              "  </div>\n",
              "\n",
              "\n",
              "<div id=\"df-08eff09d-c5a0-4b25-8f43-0306c083015c\">\n",
              "  <button class=\"colab-df-quickchart\" onclick=\"quickchart('df-08eff09d-c5a0-4b25-8f43-0306c083015c')\"\n",
              "            title=\"Suggest charts\"\n",
              "            style=\"display:none;\">\n",
              "\n",
              "<svg xmlns=\"http://www.w3.org/2000/svg\" height=\"24px\"viewBox=\"0 0 24 24\"\n",
              "     width=\"24px\">\n",
              "    <g>\n",
              "        <path d=\"M19 3H5c-1.1 0-2 .9-2 2v14c0 1.1.9 2 2 2h14c1.1 0 2-.9 2-2V5c0-1.1-.9-2-2-2zM9 17H7v-7h2v7zm4 0h-2V7h2v10zm4 0h-2v-4h2v4z\"/>\n",
              "    </g>\n",
              "</svg>\n",
              "  </button>\n",
              "\n",
              "<style>\n",
              "  .colab-df-quickchart {\n",
              "      --bg-color: #E8F0FE;\n",
              "      --fill-color: #1967D2;\n",
              "      --hover-bg-color: #E2EBFA;\n",
              "      --hover-fill-color: #174EA6;\n",
              "      --disabled-fill-color: #AAA;\n",
              "      --disabled-bg-color: #DDD;\n",
              "  }\n",
              "\n",
              "  [theme=dark] .colab-df-quickchart {\n",
              "      --bg-color: #3B4455;\n",
              "      --fill-color: #D2E3FC;\n",
              "      --hover-bg-color: #434B5C;\n",
              "      --hover-fill-color: #FFFFFF;\n",
              "      --disabled-bg-color: #3B4455;\n",
              "      --disabled-fill-color: #666;\n",
              "  }\n",
              "\n",
              "  .colab-df-quickchart {\n",
              "    background-color: var(--bg-color);\n",
              "    border: none;\n",
              "    border-radius: 50%;\n",
              "    cursor: pointer;\n",
              "    display: none;\n",
              "    fill: var(--fill-color);\n",
              "    height: 32px;\n",
              "    padding: 0;\n",
              "    width: 32px;\n",
              "  }\n",
              "\n",
              "  .colab-df-quickchart:hover {\n",
              "    background-color: var(--hover-bg-color);\n",
              "    box-shadow: 0 1px 2px rgba(60, 64, 67, 0.3), 0 1px 3px 1px rgba(60, 64, 67, 0.15);\n",
              "    fill: var(--button-hover-fill-color);\n",
              "  }\n",
              "\n",
              "  .colab-df-quickchart-complete:disabled,\n",
              "  .colab-df-quickchart-complete:disabled:hover {\n",
              "    background-color: var(--disabled-bg-color);\n",
              "    fill: var(--disabled-fill-color);\n",
              "    box-shadow: none;\n",
              "  }\n",
              "\n",
              "  .colab-df-spinner {\n",
              "    border: 2px solid var(--fill-color);\n",
              "    border-color: transparent;\n",
              "    border-bottom-color: var(--fill-color);\n",
              "    animation:\n",
              "      spin 1s steps(1) infinite;\n",
              "  }\n",
              "\n",
              "  @keyframes spin {\n",
              "    0% {\n",
              "      border-color: transparent;\n",
              "      border-bottom-color: var(--fill-color);\n",
              "      border-left-color: var(--fill-color);\n",
              "    }\n",
              "    20% {\n",
              "      border-color: transparent;\n",
              "      border-left-color: var(--fill-color);\n",
              "      border-top-color: var(--fill-color);\n",
              "    }\n",
              "    30% {\n",
              "      border-color: transparent;\n",
              "      border-left-color: var(--fill-color);\n",
              "      border-top-color: var(--fill-color);\n",
              "      border-right-color: var(--fill-color);\n",
              "    }\n",
              "    40% {\n",
              "      border-color: transparent;\n",
              "      border-right-color: var(--fill-color);\n",
              "      border-top-color: var(--fill-color);\n",
              "    }\n",
              "    60% {\n",
              "      border-color: transparent;\n",
              "      border-right-color: var(--fill-color);\n",
              "    }\n",
              "    80% {\n",
              "      border-color: transparent;\n",
              "      border-right-color: var(--fill-color);\n",
              "      border-bottom-color: var(--fill-color);\n",
              "    }\n",
              "    90% {\n",
              "      border-color: transparent;\n",
              "      border-bottom-color: var(--fill-color);\n",
              "    }\n",
              "  }\n",
              "</style>\n",
              "\n",
              "  <script>\n",
              "    async function quickchart(key) {\n",
              "      const quickchartButtonEl =\n",
              "        document.querySelector('#' + key + ' button');\n",
              "      quickchartButtonEl.disabled = true;  // To prevent multiple clicks.\n",
              "      quickchartButtonEl.classList.add('colab-df-spinner');\n",
              "      try {\n",
              "        const charts = await google.colab.kernel.invokeFunction(\n",
              "            'suggestCharts', [key], {});\n",
              "      } catch (error) {\n",
              "        console.error('Error during call to suggestCharts:', error);\n",
              "      }\n",
              "      quickchartButtonEl.classList.remove('colab-df-spinner');\n",
              "      quickchartButtonEl.classList.add('colab-df-quickchart-complete');\n",
              "    }\n",
              "    (() => {\n",
              "      let quickchartButtonEl =\n",
              "        document.querySelector('#df-08eff09d-c5a0-4b25-8f43-0306c083015c button');\n",
              "      quickchartButtonEl.style.display =\n",
              "        google.colab.kernel.accessAllowed ? 'block' : 'none';\n",
              "    })();\n",
              "  </script>\n",
              "</div>\n",
              "\n",
              "  <div id=\"id_37a1a27a-5305-4295-8394-8fe5ce79ba2e\">\n",
              "    <style>\n",
              "      .colab-df-generate {\n",
              "        background-color: #E8F0FE;\n",
              "        border: none;\n",
              "        border-radius: 50%;\n",
              "        cursor: pointer;\n",
              "        display: none;\n",
              "        fill: #1967D2;\n",
              "        height: 32px;\n",
              "        padding: 0 0 0 0;\n",
              "        width: 32px;\n",
              "      }\n",
              "\n",
              "      .colab-df-generate:hover {\n",
              "        background-color: #E2EBFA;\n",
              "        box-shadow: 0px 1px 2px rgba(60, 64, 67, 0.3), 0px 1px 3px 1px rgba(60, 64, 67, 0.15);\n",
              "        fill: #174EA6;\n",
              "      }\n",
              "\n",
              "      [theme=dark] .colab-df-generate {\n",
              "        background-color: #3B4455;\n",
              "        fill: #D2E3FC;\n",
              "      }\n",
              "\n",
              "      [theme=dark] .colab-df-generate:hover {\n",
              "        background-color: #434B5C;\n",
              "        box-shadow: 0px 1px 3px 1px rgba(0, 0, 0, 0.15);\n",
              "        filter: drop-shadow(0px 1px 2px rgba(0, 0, 0, 0.3));\n",
              "        fill: #FFFFFF;\n",
              "      }\n",
              "    </style>\n",
              "    <button class=\"colab-df-generate\" onclick=\"generateWithVariable('df')\"\n",
              "            title=\"Generate code using this dataframe.\"\n",
              "            style=\"display:none;\">\n",
              "\n",
              "  <svg xmlns=\"http://www.w3.org/2000/svg\" height=\"24px\"viewBox=\"0 0 24 24\"\n",
              "       width=\"24px\">\n",
              "    <path d=\"M7,19H8.4L18.45,9,17,7.55,7,17.6ZM5,21V16.75L18.45,3.32a2,2,0,0,1,2.83,0l1.4,1.43a1.91,1.91,0,0,1,.58,1.4,1.91,1.91,0,0,1-.58,1.4L9.25,21ZM18.45,9,17,7.55Zm-12,3A5.31,5.31,0,0,0,4.9,8.1,5.31,5.31,0,0,0,1,6.5,5.31,5.31,0,0,0,4.9,4.9,5.31,5.31,0,0,0,6.5,1,5.31,5.31,0,0,0,8.1,4.9,5.31,5.31,0,0,0,12,6.5,5.46,5.46,0,0,0,6.5,12Z\"/>\n",
              "  </svg>\n",
              "    </button>\n",
              "    <script>\n",
              "      (() => {\n",
              "      const buttonEl =\n",
              "        document.querySelector('#id_37a1a27a-5305-4295-8394-8fe5ce79ba2e button.colab-df-generate');\n",
              "      buttonEl.style.display =\n",
              "        google.colab.kernel.accessAllowed ? 'block' : 'none';\n",
              "\n",
              "      buttonEl.onclick = () => {\n",
              "        google.colab.notebook.generateWithVariable('df');\n",
              "      }\n",
              "      })();\n",
              "    </script>\n",
              "  </div>\n",
              "\n",
              "    </div>\n",
              "  </div>\n"
            ],
            "application/vnd.google.colaboratory.intrinsic+json": {
              "type": "dataframe",
              "variable_name": "df"
            }
          },
          "metadata": {},
          "execution_count": 6
        }
      ],
      "source": [
        "\n",
        "\n",
        "import pandas as pd\n",
        "\n",
        "df = pd.read_csv(\"https://waf.cs.illinois.edu/discovery/gpa.csv\")\n",
        "df"
      ]
    },
    {
      "cell_type": "markdown",
      "metadata": {
        "id": "RixcCkMQmFwV"
      },
      "source": [
        "### 🔬 Test Case Checkpoint 🔬"
      ]
    },
    {
      "cell_type": "code",
      "execution_count": 9,
      "metadata": {
        "id": "Nq0-79rHmFwW",
        "colab": {
          "base_uri": "https://localhost:8080/"
        },
        "outputId": "12e7bbb1-0be2-4e32-af7e-a553a4feaa16"
      },
      "outputs": [
        {
          "output_type": "stream",
          "name": "stdout",
          "text": [
            "🎉 All tests passed! 🎉\n"
          ]
        }
      ],
      "source": [
        "## == CHECKPOINT TEST CASES ==\n",
        "# - This read-only cell contains test cases for your previous cell.\n",
        "# - If this cell runs without any errors, you PASSED all test cases!\n",
        "# - If this cell results in any errors, check your previous cell, make changes, and RE-RUN your code and then this cell.\n",
        "assert(len(df) == 69069 ), \"This is not the GPA dataset you're looking for.\"\n",
        "\n",
        "## == SUCCESS MESSAGE ==\n",
        "# You will only see this message (with the emoji showing) if you passed all test cases:\n",
        "tada = \"\\N{PARTY POPPER}\"\n",
        "print(f\"{tada} All tests passed! {tada}\")"
      ]
    },
    {
      "cell_type": "markdown",
      "metadata": {
        "id": "hneKXSh8mFwW"
      },
      "source": [
        "## Data Cleaning: An Additional Column\n",
        "\n",
        "The GPA dataset contains raw GPA data and is not the easiest to work with if we want to analyze intricacies such as the average GPA or passing rate.  Luckily, DataFrames are modifiable, so we can **add more columns** based on what questions we want to answer.\n",
        "\n",
        "The process of modifying a dataset via deletion (cleaning up empty/unwanted values) or addition (adding new columns) is often called **data cleaning**. This is an important concept in Data Science, because you won't always receive your data in the perfect format for your purposes.\n",
        "\n",
        "With the GPA dataset, we want to investigate one innocent question posed by a theoretical incoming student:\n",
        "- *Is it easier to get an A in STAT or CS courses at UIUC?*\n",
        "\n",
        "To do this, we'll need to first perform some modifications on our loaded DataFrame, `df`. Specifically, we will need to create:\n",
        "- An `A_Grades` column, containing the total number of students receiving an A+, A, or A- in every course"
      ]
    },
    {
      "cell_type": "markdown",
      "metadata": {
        "id": "_yK0R5DmmFwW"
      },
      "source": [
        "### Puzzle 1.1: Creating an `A_Grades` Column\n",
        "\n",
        "Create the new column `A_Grades` that stores the total number of \"A\"s given in every course.\n",
        "\n",
        "- We consider an \"A\" to be any type of A, in other words \"A+\", \"A\", or an \"A-\" are all included.\n",
        "- In our `df`, the number of students recieving a particular grade in a course is found in the `df['Grade']` column. For example, `df['A']` contains the number of students who recieved an A."
      ]
    },
    {
      "cell_type": "code",
      "execution_count": 7,
      "metadata": {
        "id": "0vqqP10umFwW",
        "colab": {
          "base_uri": "https://localhost:8080/"
        },
        "outputId": "199d9a85-813f-495e-f756-a8357e8ade9b"
      },
      "outputs": [
        {
          "output_type": "execute_result",
          "data": {
            "text/plain": [
              "0        16\n",
              "1        19\n",
              "2        15\n",
              "3        26\n",
              "4        30\n",
              "         ..\n",
              "69064    17\n",
              "69065    24\n",
              "69066     4\n",
              "69067     5\n",
              "69068    22\n",
              "Name: A_Grades, Length: 69069, dtype: int64"
            ]
          },
          "metadata": {},
          "execution_count": 7
        }
      ],
      "source": [
        "df['A_Grades'] = df [\"A+\"] + df [\"A\"] + df [\"A-\"]\n",
        "df['A_Grades']"
      ]
    },
    {
      "cell_type": "markdown",
      "metadata": {
        "id": "8SnvWKTUmFwW"
      },
      "source": [
        "### 🔬 Test Case Checkpoint 🔬"
      ]
    },
    {
      "cell_type": "code",
      "execution_count": 19,
      "metadata": {
        "id": "lzfdfoZ0mFwX",
        "colab": {
          "base_uri": "https://localhost:8080/"
        },
        "outputId": "69d38dce-c0b5-4e0c-ebf0-06988329978a"
      },
      "outputs": [
        {
          "output_type": "stream",
          "name": "stdout",
          "text": [
            "🎉 All tests passed! 🎉\n"
          ]
        }
      ],
      "source": [
        "## == CHECKPOINT TEST CASES ==\n",
        "# - This read-only cell contains test cases for your previous cell.\n",
        "# - If this cell runs without any errors, you PASSED all test cases!\n",
        "# - If this cell results in any errors, check your previous cell, make changes, and RE-RUN your code and then this cell.\n",
        "assert('A_Grades' in df), \"Make sure you've named the A_Grades column properly and added it to the DataFrame.\"\n",
        "assert(df['A_Grades'].sum() == 2325768), \"Double check the values of your A_Grades column.\"\n",
        "\n",
        "## == SUCCESS MESSAGE ==\n",
        "# You will only see this message (with the emoji showing) if you passed all test cases:\n",
        "tada = \"\\N{PARTY POPPER}\"\n",
        "print(f\"{tada} All tests passed! {tada}\")"
      ]
    },
    {
      "cell_type": "markdown",
      "metadata": {
        "id": "syYUnSDKmFwX"
      },
      "source": [
        "# Working with the GPA Dataset\n",
        "Now that we have that extra column set up, we can perform basic mathematical analysis on the GPA Dataset to get insight towards our question:\n",
        "- *Is it easier to get an A in STAT or CS courses at UIUC?*\n",
        "\n",
        "Should be simple, right? Let's just see which subject, STAT or CS, has a greater percentage of A grades."
      ]
    },
    {
      "cell_type": "markdown",
      "metadata": {
        "id": "zC9LGAhkmFwX"
      },
      "source": [
        "### Puzzle 1.2: Subject DataFrames\n",
        "\n",
        "Select only the rows of the GPA dataset `df` with a `Subject` of `STAT`. Assign these rows to a new DataFrame, `df_STAT`.\n",
        "- Make sure your result only contains STAT courses!"
      ]
    },
    {
      "cell_type": "code",
      "execution_count": 8,
      "metadata": {
        "id": "5GjGz6FBmFwX"
      },
      "outputs": [],
      "source": [
        "df_STAT = df[df[\"Subject\"] == \"STAT\"]"
      ]
    },
    {
      "cell_type": "markdown",
      "metadata": {
        "id": "V2pDxdbCmFwX"
      },
      "source": [
        "Select only the rows of the GPA dataset `df` with a `Subject` of `CS`. Assign these rows to a new DataFrame, `df_CS`.\n",
        "- Make sure your result only contains CS courses!"
      ]
    },
    {
      "cell_type": "code",
      "execution_count": 10,
      "metadata": {
        "id": "dPE-QSQBmFwX"
      },
      "outputs": [],
      "source": [
        "df_CS = df[df[\"Subject\"] == \"CS\"]"
      ]
    },
    {
      "cell_type": "markdown",
      "metadata": {
        "id": "nnm7FikjmFwX"
      },
      "source": [
        "### 🔬 Test Case Checkpoint 🔬"
      ]
    },
    {
      "cell_type": "code",
      "execution_count": 20,
      "metadata": {
        "id": "k86rMo6FmFwX",
        "colab": {
          "base_uri": "https://localhost:8080/"
        },
        "outputId": "15144124-a2b8-4eac-a9ce-af2a3fd5f49f"
      },
      "outputs": [
        {
          "output_type": "stream",
          "name": "stdout",
          "text": [
            "🎉 All tests passed! 🎉\n"
          ]
        }
      ],
      "source": [
        "## == CHECKPOINT TEST CASES ==\n",
        "# - This read-only cell contains test cases for your previous cell.\n",
        "# - If this cell runs without any error our output, you PASSED all test cases!\n",
        "# - If this cell results in any errors, check you previous cell, make changes, and RE-RUN your code and then this cell.\n",
        "assert( 'df_STAT' in vars() ), \"Make certain to name the STAT courses df_STAT.\"\n",
        "assert( 'df_CS' in vars() ), \"Make certain to name the CS courses df_CS.\"\n",
        "assert( len(df_STAT[df_STAT.Subject != \"STAT\"] ) == 0 ), \"It looks like you did not subset df_STAT to only STAT courses.\"\n",
        "assert( len(df_CS[df_CS.Subject != \"CS\"] ) == 0 ), \"It looks like you did not subset df_CS to only CS courses.\"\n",
        "\n",
        "## == SUCCESS MESSAGE ==\n",
        "# You will only see this message (with the emoji showing) if you passed all test cases:\n",
        "tada = \"\\N{PARTY POPPER}\"\n",
        "print(f\"{tada} All tests passed! {tada}\")"
      ]
    },
    {
      "cell_type": "markdown",
      "metadata": {
        "id": "_jRR0bvZmFwX"
      },
      "source": [
        "### Puzzle 1.3: Comparing Overall Percentages\n",
        "\n",
        "With our two new DataFrames of STAT and CS courses, use the following code cell to determine the **percentage** of A grades recieved in STAT and CS courses, storing them as variables `stat_a` and `cs_a` respectively.\n",
        "\n",
        "Print statements have been provided to show the values you calculate.\n",
        "\n",
        "As you work, remember:\n",
        "- To find the **% of As**, divide the total number of `A_Grades` by the total number of `Students` ($\\space \\frac{A \\space Grades}{Students} \\space$).\n",
        "- The `A_Grades` column you made earlier, and the `Students` column containing the total number of students in each course.\n",
        "- The syntax `sum(df['column_name'])` can be used to add up the values of all rows in a particular column of a DataFrame.\n",
        "- Your % should be a decimal between 0 and 1."
      ]
    },
    {
      "cell_type": "code",
      "execution_count": 11,
      "metadata": {
        "id": "CZiahO-5mFwX",
        "colab": {
          "base_uri": "https://localhost:8080/"
        },
        "outputId": "59b5e578-7710-4149-f97d-ffe3bc8f8b8b"
      },
      "outputs": [
        {
          "output_type": "stream",
          "name": "stdout",
          "text": [
            "Overall % of As in STAT is: 0.609647329889628\n",
            "Overall % of As in CS is: 0.6119729348794934\n"
          ]
        }
      ],
      "source": [
        "stat_a = sum(df_STAT['A_Grades'] ) / sum(df_STAT[\"Students\"])\n",
        "print(f'Overall % of As in STAT is: {stat_a}')\n",
        "\n",
        "cs_a = sum(df_CS['A_Grades'] ) / sum(df_CS[\"Students\"])\n",
        "print(f'Overall % of As in CS is: {cs_a}')"
      ]
    },
    {
      "cell_type": "markdown",
      "metadata": {
        "id": "zHRSYOa5mFwY"
      },
      "source": [
        "### 🔬 Test Case Checkpoint 🔬"
      ]
    },
    {
      "cell_type": "code",
      "execution_count": null,
      "metadata": {
        "id": "kGVqz-9OmFwY"
      },
      "outputs": [],
      "source": [
        "## == CHECKPOINT TEST CASES ==\n",
        "# - This read-only cell contains test cases for your previous cell.\n",
        "# - If this cell runs without any errors, you PASSED all test cases!\n",
        "# - If this cell results in any errors, check your previous cell, make changes, and RE-RUN your code and then this cell.\n",
        "import math\n",
        "assert(math.isclose(stat_a, 0.609647329889628)), \"The overall percentage of A grades received in STAT courses does not appear to have been correctly calculated.\"\n",
        "assert(math.isclose(cs_a, 0.6119729348794934)), \"The overall percentage of A grades received in CS courses does not appear to have been correctly calculated.\"\n",
        "\n",
        "## == SUCCESS MESSAGE ==\n",
        "# You will only see this message (with the emoji showing) if you passed all test cases:\n",
        "tada = \"\\N{PARTY POPPER}\"\n",
        "print(f\"{tada} All tests passed! {tada}\")"
      ]
    },
    {
      "cell_type": "markdown",
      "metadata": {
        "id": "pgqgkuYumFwY"
      },
      "source": [
        "### Analysis: Good Comparison?\n",
        "**Q: What conclusion can you take from the overall percentages found above when asking the original question:**\n",
        "- *Is it significantly easier to get an A in STAT or CS courses at UIUC, or is so close it would be hard to make general conclusions?*"
      ]
    },
    {
      "cell_type": "markdown",
      "metadata": {
        "id": "Kq7Ppik_mFwY"
      },
      "source": [
        "*(✏️hard to make a decision)*"
      ]
    },
    {
      "cell_type": "markdown",
      "metadata": {
        "id": "LBwCvVGqmFwY"
      },
      "source": [
        "**Q: Given what you've learned about experimental design, what are some reasons (specific to this dataset) you may not trust this conclusion? If you would trust it, explain why.**"
      ]
    },
    {
      "cell_type": "markdown",
      "metadata": {
        "id": "IuHH9qxemFwY"
      },
      "source": [
        "There other unknown variables that would determine the response."
      ]
    },
    {
      "cell_type": "markdown",
      "metadata": {
        "id": "01urflWumFwY"
      },
      "source": [
        "## An Extra Consideration\n",
        "\n",
        "If you look at the `Year` column of our GPA dataset, you might notice that we have some old data in our dataset - all the way back to **2010**! This means we aren't really answering our question from the perspective of a student now.\n",
        "\n",
        "If we want to know if it is easier to **currently** get an A in a STAT or CS course, we should control for the **date** of the data by looking at more **recent years** specifically."
      ]
    },
    {
      "cell_type": "markdown",
      "metadata": {
        "id": "LC8_OxVimFwY"
      },
      "source": [
        "### Puzzle 1.4: More DataFrames\n",
        "\n",
        "Using the code cells below, define four new DataFrames by selecting from rows of our previously created `df_CS` and `df_STAT`.\n",
        "\n",
        "- `df_cs_recent`: all `CS` course data in *recent years* ($\\space \\geq 2021 \\space$)\n",
        "- `df_stat_recent`: all `STAT` course data in *recent years* ($\\space \\geq 2021 \\space$)\n",
        "- `df_cs_old`: all other, older `CS` course data ($\\space < 2021 \\space$)\n",
        "- `df_stat_old`: all other, older `STAT` course data ($\\space < 2021 \\space$)\n",
        "\n",
        "Define *recent years* as **any year after and including 2021**, and older years as any year before 2021.\n",
        "\n",
        "Feel free to use conditionals OR the `.isin()` syntax you learned in the last lab."
      ]
    },
    {
      "cell_type": "code",
      "execution_count": 13,
      "metadata": {
        "id": "-10N9rKMmFwY",
        "colab": {
          "base_uri": "https://localhost:8080/",
          "height": 736
        },
        "outputId": "d59f5030-6f66-49b7-fbe4-0e66c973daac"
      },
      "outputs": [
        {
          "output_type": "execute_result",
          "data": {
            "text/plain": [
              "       Year    Term YearTerm Subject  Number                   Course Title  \\\n",
              "2118   2023  Spring  2023-sp    STAT     100                     Statistics   \n",
              "2119   2023  Spring  2023-sp    STAT     100                     Statistics   \n",
              "2120   2023  Spring  2023-sp    STAT     107         Data Science Discovery   \n",
              "2121   2023  Spring  2023-sp    STAT     200           Statistical Analysis   \n",
              "2122   2023  Spring  2023-sp    STAT     207       Data Science Exploration   \n",
              "...     ...     ...      ...     ...     ...                            ...   \n",
              "12562  2021  Summer  2021-su    STAT     400   Statistics and Probability I   \n",
              "12563  2021  Summer  2021-su    STAT     410  Statistics and Probability II   \n",
              "12564  2021  Summer  2021-su    STAT     420      Statistical Modeling in R   \n",
              "12565  2021  Summer  2021-su    STAT     420  Methods of Applied Statistics   \n",
              "12566  2021  Summer  2021-su    STAT     425  Applied Regression and Design   \n",
              "\n",
              "      Sched Type   A+    A  A-  ...   C  C-  D+   D  D-   F  W  Students  \\\n",
              "2118         LEC   51  165  50  ...  24  15   7  14  10  19  3       478   \n",
              "2119         ONL   82  285  83  ...  51  23  17  19   6  41  3       849   \n",
              "2120         LEC   44  177  36  ...   7   5   2   0   0   8  0       341   \n",
              "2121         LEC   59   54  23  ...   3   0   2   0   0   1  0       178   \n",
              "2122         LEC   27   23   8  ...   6   3   1   0   0   3  0        93   \n",
              "...          ...  ...  ...  ..  ...  ..  ..  ..  ..  ..  .. ..       ...   \n",
              "12562        OLC   11   22   6  ...   4   3   2   1   0   7  2        84   \n",
              "12563        ONL    8   14   4  ...   3   0   0   3   0   4  2        56   \n",
              "12564        ONL  101   94  15  ...   1   0   0   0   0   2  4       227   \n",
              "12565        ONL    5    8   1  ...   2   0   0   0   0   1  0        22   \n",
              "12566        ONL   13   13   8  ...   0   1   0   0   0   5  0        45   \n",
              "\n",
              "           Primary Instructor  A_Grades  \n",
              "2118        Flanagan, Karle A       266  \n",
              "2119        Flanagan, Karle A       450  \n",
              "2120        Flanagan, Karle A       257  \n",
              "2121               Yu, Albert       136  \n",
              "2122           Deeke, Julie M        58  \n",
              "...                       ...       ...  \n",
              "12562        Nguyen, Ha Khanh        39  \n",
              "12563      Stepanov, Alexey G        26  \n",
              "12564            Unger, David       210  \n",
              "12565            Unger, David        14  \n",
              "12566  Bravo De Guenni, Lelys        34  \n",
              "\n",
              "[221 rows x 24 columns]"
            ],
            "text/html": [
              "\n",
              "  <div id=\"df-97e06f72-de66-43ab-b733-4778586990d6\" class=\"colab-df-container\">\n",
              "    <div>\n",
              "<style scoped>\n",
              "    .dataframe tbody tr th:only-of-type {\n",
              "        vertical-align: middle;\n",
              "    }\n",
              "\n",
              "    .dataframe tbody tr th {\n",
              "        vertical-align: top;\n",
              "    }\n",
              "\n",
              "    .dataframe thead th {\n",
              "        text-align: right;\n",
              "    }\n",
              "</style>\n",
              "<table border=\"1\" class=\"dataframe\">\n",
              "  <thead>\n",
              "    <tr style=\"text-align: right;\">\n",
              "      <th></th>\n",
              "      <th>Year</th>\n",
              "      <th>Term</th>\n",
              "      <th>YearTerm</th>\n",
              "      <th>Subject</th>\n",
              "      <th>Number</th>\n",
              "      <th>Course Title</th>\n",
              "      <th>Sched Type</th>\n",
              "      <th>A+</th>\n",
              "      <th>A</th>\n",
              "      <th>A-</th>\n",
              "      <th>...</th>\n",
              "      <th>C</th>\n",
              "      <th>C-</th>\n",
              "      <th>D+</th>\n",
              "      <th>D</th>\n",
              "      <th>D-</th>\n",
              "      <th>F</th>\n",
              "      <th>W</th>\n",
              "      <th>Students</th>\n",
              "      <th>Primary Instructor</th>\n",
              "      <th>A_Grades</th>\n",
              "    </tr>\n",
              "  </thead>\n",
              "  <tbody>\n",
              "    <tr>\n",
              "      <th>2118</th>\n",
              "      <td>2023</td>\n",
              "      <td>Spring</td>\n",
              "      <td>2023-sp</td>\n",
              "      <td>STAT</td>\n",
              "      <td>100</td>\n",
              "      <td>Statistics</td>\n",
              "      <td>LEC</td>\n",
              "      <td>51</td>\n",
              "      <td>165</td>\n",
              "      <td>50</td>\n",
              "      <td>...</td>\n",
              "      <td>24</td>\n",
              "      <td>15</td>\n",
              "      <td>7</td>\n",
              "      <td>14</td>\n",
              "      <td>10</td>\n",
              "      <td>19</td>\n",
              "      <td>3</td>\n",
              "      <td>478</td>\n",
              "      <td>Flanagan, Karle A</td>\n",
              "      <td>266</td>\n",
              "    </tr>\n",
              "    <tr>\n",
              "      <th>2119</th>\n",
              "      <td>2023</td>\n",
              "      <td>Spring</td>\n",
              "      <td>2023-sp</td>\n",
              "      <td>STAT</td>\n",
              "      <td>100</td>\n",
              "      <td>Statistics</td>\n",
              "      <td>ONL</td>\n",
              "      <td>82</td>\n",
              "      <td>285</td>\n",
              "      <td>83</td>\n",
              "      <td>...</td>\n",
              "      <td>51</td>\n",
              "      <td>23</td>\n",
              "      <td>17</td>\n",
              "      <td>19</td>\n",
              "      <td>6</td>\n",
              "      <td>41</td>\n",
              "      <td>3</td>\n",
              "      <td>849</td>\n",
              "      <td>Flanagan, Karle A</td>\n",
              "      <td>450</td>\n",
              "    </tr>\n",
              "    <tr>\n",
              "      <th>2120</th>\n",
              "      <td>2023</td>\n",
              "      <td>Spring</td>\n",
              "      <td>2023-sp</td>\n",
              "      <td>STAT</td>\n",
              "      <td>107</td>\n",
              "      <td>Data Science Discovery</td>\n",
              "      <td>LEC</td>\n",
              "      <td>44</td>\n",
              "      <td>177</td>\n",
              "      <td>36</td>\n",
              "      <td>...</td>\n",
              "      <td>7</td>\n",
              "      <td>5</td>\n",
              "      <td>2</td>\n",
              "      <td>0</td>\n",
              "      <td>0</td>\n",
              "      <td>8</td>\n",
              "      <td>0</td>\n",
              "      <td>341</td>\n",
              "      <td>Flanagan, Karle A</td>\n",
              "      <td>257</td>\n",
              "    </tr>\n",
              "    <tr>\n",
              "      <th>2121</th>\n",
              "      <td>2023</td>\n",
              "      <td>Spring</td>\n",
              "      <td>2023-sp</td>\n",
              "      <td>STAT</td>\n",
              "      <td>200</td>\n",
              "      <td>Statistical Analysis</td>\n",
              "      <td>LEC</td>\n",
              "      <td>59</td>\n",
              "      <td>54</td>\n",
              "      <td>23</td>\n",
              "      <td>...</td>\n",
              "      <td>3</td>\n",
              "      <td>0</td>\n",
              "      <td>2</td>\n",
              "      <td>0</td>\n",
              "      <td>0</td>\n",
              "      <td>1</td>\n",
              "      <td>0</td>\n",
              "      <td>178</td>\n",
              "      <td>Yu, Albert</td>\n",
              "      <td>136</td>\n",
              "    </tr>\n",
              "    <tr>\n",
              "      <th>2122</th>\n",
              "      <td>2023</td>\n",
              "      <td>Spring</td>\n",
              "      <td>2023-sp</td>\n",
              "      <td>STAT</td>\n",
              "      <td>207</td>\n",
              "      <td>Data Science Exploration</td>\n",
              "      <td>LEC</td>\n",
              "      <td>27</td>\n",
              "      <td>23</td>\n",
              "      <td>8</td>\n",
              "      <td>...</td>\n",
              "      <td>6</td>\n",
              "      <td>3</td>\n",
              "      <td>1</td>\n",
              "      <td>0</td>\n",
              "      <td>0</td>\n",
              "      <td>3</td>\n",
              "      <td>0</td>\n",
              "      <td>93</td>\n",
              "      <td>Deeke, Julie M</td>\n",
              "      <td>58</td>\n",
              "    </tr>\n",
              "    <tr>\n",
              "      <th>...</th>\n",
              "      <td>...</td>\n",
              "      <td>...</td>\n",
              "      <td>...</td>\n",
              "      <td>...</td>\n",
              "      <td>...</td>\n",
              "      <td>...</td>\n",
              "      <td>...</td>\n",
              "      <td>...</td>\n",
              "      <td>...</td>\n",
              "      <td>...</td>\n",
              "      <td>...</td>\n",
              "      <td>...</td>\n",
              "      <td>...</td>\n",
              "      <td>...</td>\n",
              "      <td>...</td>\n",
              "      <td>...</td>\n",
              "      <td>...</td>\n",
              "      <td>...</td>\n",
              "      <td>...</td>\n",
              "      <td>...</td>\n",
              "      <td>...</td>\n",
              "    </tr>\n",
              "    <tr>\n",
              "      <th>12562</th>\n",
              "      <td>2021</td>\n",
              "      <td>Summer</td>\n",
              "      <td>2021-su</td>\n",
              "      <td>STAT</td>\n",
              "      <td>400</td>\n",
              "      <td>Statistics and Probability I</td>\n",
              "      <td>OLC</td>\n",
              "      <td>11</td>\n",
              "      <td>22</td>\n",
              "      <td>6</td>\n",
              "      <td>...</td>\n",
              "      <td>4</td>\n",
              "      <td>3</td>\n",
              "      <td>2</td>\n",
              "      <td>1</td>\n",
              "      <td>0</td>\n",
              "      <td>7</td>\n",
              "      <td>2</td>\n",
              "      <td>84</td>\n",
              "      <td>Nguyen, Ha Khanh</td>\n",
              "      <td>39</td>\n",
              "    </tr>\n",
              "    <tr>\n",
              "      <th>12563</th>\n",
              "      <td>2021</td>\n",
              "      <td>Summer</td>\n",
              "      <td>2021-su</td>\n",
              "      <td>STAT</td>\n",
              "      <td>410</td>\n",
              "      <td>Statistics and Probability II</td>\n",
              "      <td>ONL</td>\n",
              "      <td>8</td>\n",
              "      <td>14</td>\n",
              "      <td>4</td>\n",
              "      <td>...</td>\n",
              "      <td>3</td>\n",
              "      <td>0</td>\n",
              "      <td>0</td>\n",
              "      <td>3</td>\n",
              "      <td>0</td>\n",
              "      <td>4</td>\n",
              "      <td>2</td>\n",
              "      <td>56</td>\n",
              "      <td>Stepanov, Alexey G</td>\n",
              "      <td>26</td>\n",
              "    </tr>\n",
              "    <tr>\n",
              "      <th>12564</th>\n",
              "      <td>2021</td>\n",
              "      <td>Summer</td>\n",
              "      <td>2021-su</td>\n",
              "      <td>STAT</td>\n",
              "      <td>420</td>\n",
              "      <td>Statistical Modeling in R</td>\n",
              "      <td>ONL</td>\n",
              "      <td>101</td>\n",
              "      <td>94</td>\n",
              "      <td>15</td>\n",
              "      <td>...</td>\n",
              "      <td>1</td>\n",
              "      <td>0</td>\n",
              "      <td>0</td>\n",
              "      <td>0</td>\n",
              "      <td>0</td>\n",
              "      <td>2</td>\n",
              "      <td>4</td>\n",
              "      <td>227</td>\n",
              "      <td>Unger, David</td>\n",
              "      <td>210</td>\n",
              "    </tr>\n",
              "    <tr>\n",
              "      <th>12565</th>\n",
              "      <td>2021</td>\n",
              "      <td>Summer</td>\n",
              "      <td>2021-su</td>\n",
              "      <td>STAT</td>\n",
              "      <td>420</td>\n",
              "      <td>Methods of Applied Statistics</td>\n",
              "      <td>ONL</td>\n",
              "      <td>5</td>\n",
              "      <td>8</td>\n",
              "      <td>1</td>\n",
              "      <td>...</td>\n",
              "      <td>2</td>\n",
              "      <td>0</td>\n",
              "      <td>0</td>\n",
              "      <td>0</td>\n",
              "      <td>0</td>\n",
              "      <td>1</td>\n",
              "      <td>0</td>\n",
              "      <td>22</td>\n",
              "      <td>Unger, David</td>\n",
              "      <td>14</td>\n",
              "    </tr>\n",
              "    <tr>\n",
              "      <th>12566</th>\n",
              "      <td>2021</td>\n",
              "      <td>Summer</td>\n",
              "      <td>2021-su</td>\n",
              "      <td>STAT</td>\n",
              "      <td>425</td>\n",
              "      <td>Applied Regression and Design</td>\n",
              "      <td>ONL</td>\n",
              "      <td>13</td>\n",
              "      <td>13</td>\n",
              "      <td>8</td>\n",
              "      <td>...</td>\n",
              "      <td>0</td>\n",
              "      <td>1</td>\n",
              "      <td>0</td>\n",
              "      <td>0</td>\n",
              "      <td>0</td>\n",
              "      <td>5</td>\n",
              "      <td>0</td>\n",
              "      <td>45</td>\n",
              "      <td>Bravo De Guenni, Lelys</td>\n",
              "      <td>34</td>\n",
              "    </tr>\n",
              "  </tbody>\n",
              "</table>\n",
              "<p>221 rows × 24 columns</p>\n",
              "</div>\n",
              "    <div class=\"colab-df-buttons\">\n",
              "\n",
              "  <div class=\"colab-df-container\">\n",
              "    <button class=\"colab-df-convert\" onclick=\"convertToInteractive('df-97e06f72-de66-43ab-b733-4778586990d6')\"\n",
              "            title=\"Convert this dataframe to an interactive table.\"\n",
              "            style=\"display:none;\">\n",
              "\n",
              "  <svg xmlns=\"http://www.w3.org/2000/svg\" height=\"24px\" viewBox=\"0 -960 960 960\">\n",
              "    <path d=\"M120-120v-720h720v720H120Zm60-500h600v-160H180v160Zm220 220h160v-160H400v160Zm0 220h160v-160H400v160ZM180-400h160v-160H180v160Zm440 0h160v-160H620v160ZM180-180h160v-160H180v160Zm440 0h160v-160H620v160Z\"/>\n",
              "  </svg>\n",
              "    </button>\n",
              "\n",
              "  <style>\n",
              "    .colab-df-container {\n",
              "      display:flex;\n",
              "      gap: 12px;\n",
              "    }\n",
              "\n",
              "    .colab-df-convert {\n",
              "      background-color: #E8F0FE;\n",
              "      border: none;\n",
              "      border-radius: 50%;\n",
              "      cursor: pointer;\n",
              "      display: none;\n",
              "      fill: #1967D2;\n",
              "      height: 32px;\n",
              "      padding: 0 0 0 0;\n",
              "      width: 32px;\n",
              "    }\n",
              "\n",
              "    .colab-df-convert:hover {\n",
              "      background-color: #E2EBFA;\n",
              "      box-shadow: 0px 1px 2px rgba(60, 64, 67, 0.3), 0px 1px 3px 1px rgba(60, 64, 67, 0.15);\n",
              "      fill: #174EA6;\n",
              "    }\n",
              "\n",
              "    .colab-df-buttons div {\n",
              "      margin-bottom: 4px;\n",
              "    }\n",
              "\n",
              "    [theme=dark] .colab-df-convert {\n",
              "      background-color: #3B4455;\n",
              "      fill: #D2E3FC;\n",
              "    }\n",
              "\n",
              "    [theme=dark] .colab-df-convert:hover {\n",
              "      background-color: #434B5C;\n",
              "      box-shadow: 0px 1px 3px 1px rgba(0, 0, 0, 0.15);\n",
              "      filter: drop-shadow(0px 1px 2px rgba(0, 0, 0, 0.3));\n",
              "      fill: #FFFFFF;\n",
              "    }\n",
              "  </style>\n",
              "\n",
              "    <script>\n",
              "      const buttonEl =\n",
              "        document.querySelector('#df-97e06f72-de66-43ab-b733-4778586990d6 button.colab-df-convert');\n",
              "      buttonEl.style.display =\n",
              "        google.colab.kernel.accessAllowed ? 'block' : 'none';\n",
              "\n",
              "      async function convertToInteractive(key) {\n",
              "        const element = document.querySelector('#df-97e06f72-de66-43ab-b733-4778586990d6');\n",
              "        const dataTable =\n",
              "          await google.colab.kernel.invokeFunction('convertToInteractive',\n",
              "                                                    [key], {});\n",
              "        if (!dataTable) return;\n",
              "\n",
              "        const docLinkHtml = 'Like what you see? Visit the ' +\n",
              "          '<a target=\"_blank\" href=https://colab.research.google.com/notebooks/data_table.ipynb>data table notebook</a>'\n",
              "          + ' to learn more about interactive tables.';\n",
              "        element.innerHTML = '';\n",
              "        dataTable['output_type'] = 'display_data';\n",
              "        await google.colab.output.renderOutput(dataTable, element);\n",
              "        const docLink = document.createElement('div');\n",
              "        docLink.innerHTML = docLinkHtml;\n",
              "        element.appendChild(docLink);\n",
              "      }\n",
              "    </script>\n",
              "  </div>\n",
              "\n",
              "\n",
              "<div id=\"df-d3cffd40-71da-4688-b078-dfdbbb25b936\">\n",
              "  <button class=\"colab-df-quickchart\" onclick=\"quickchart('df-d3cffd40-71da-4688-b078-dfdbbb25b936')\"\n",
              "            title=\"Suggest charts\"\n",
              "            style=\"display:none;\">\n",
              "\n",
              "<svg xmlns=\"http://www.w3.org/2000/svg\" height=\"24px\"viewBox=\"0 0 24 24\"\n",
              "     width=\"24px\">\n",
              "    <g>\n",
              "        <path d=\"M19 3H5c-1.1 0-2 .9-2 2v14c0 1.1.9 2 2 2h14c1.1 0 2-.9 2-2V5c0-1.1-.9-2-2-2zM9 17H7v-7h2v7zm4 0h-2V7h2v10zm4 0h-2v-4h2v4z\"/>\n",
              "    </g>\n",
              "</svg>\n",
              "  </button>\n",
              "\n",
              "<style>\n",
              "  .colab-df-quickchart {\n",
              "      --bg-color: #E8F0FE;\n",
              "      --fill-color: #1967D2;\n",
              "      --hover-bg-color: #E2EBFA;\n",
              "      --hover-fill-color: #174EA6;\n",
              "      --disabled-fill-color: #AAA;\n",
              "      --disabled-bg-color: #DDD;\n",
              "  }\n",
              "\n",
              "  [theme=dark] .colab-df-quickchart {\n",
              "      --bg-color: #3B4455;\n",
              "      --fill-color: #D2E3FC;\n",
              "      --hover-bg-color: #434B5C;\n",
              "      --hover-fill-color: #FFFFFF;\n",
              "      --disabled-bg-color: #3B4455;\n",
              "      --disabled-fill-color: #666;\n",
              "  }\n",
              "\n",
              "  .colab-df-quickchart {\n",
              "    background-color: var(--bg-color);\n",
              "    border: none;\n",
              "    border-radius: 50%;\n",
              "    cursor: pointer;\n",
              "    display: none;\n",
              "    fill: var(--fill-color);\n",
              "    height: 32px;\n",
              "    padding: 0;\n",
              "    width: 32px;\n",
              "  }\n",
              "\n",
              "  .colab-df-quickchart:hover {\n",
              "    background-color: var(--hover-bg-color);\n",
              "    box-shadow: 0 1px 2px rgba(60, 64, 67, 0.3), 0 1px 3px 1px rgba(60, 64, 67, 0.15);\n",
              "    fill: var(--button-hover-fill-color);\n",
              "  }\n",
              "\n",
              "  .colab-df-quickchart-complete:disabled,\n",
              "  .colab-df-quickchart-complete:disabled:hover {\n",
              "    background-color: var(--disabled-bg-color);\n",
              "    fill: var(--disabled-fill-color);\n",
              "    box-shadow: none;\n",
              "  }\n",
              "\n",
              "  .colab-df-spinner {\n",
              "    border: 2px solid var(--fill-color);\n",
              "    border-color: transparent;\n",
              "    border-bottom-color: var(--fill-color);\n",
              "    animation:\n",
              "      spin 1s steps(1) infinite;\n",
              "  }\n",
              "\n",
              "  @keyframes spin {\n",
              "    0% {\n",
              "      border-color: transparent;\n",
              "      border-bottom-color: var(--fill-color);\n",
              "      border-left-color: var(--fill-color);\n",
              "    }\n",
              "    20% {\n",
              "      border-color: transparent;\n",
              "      border-left-color: var(--fill-color);\n",
              "      border-top-color: var(--fill-color);\n",
              "    }\n",
              "    30% {\n",
              "      border-color: transparent;\n",
              "      border-left-color: var(--fill-color);\n",
              "      border-top-color: var(--fill-color);\n",
              "      border-right-color: var(--fill-color);\n",
              "    }\n",
              "    40% {\n",
              "      border-color: transparent;\n",
              "      border-right-color: var(--fill-color);\n",
              "      border-top-color: var(--fill-color);\n",
              "    }\n",
              "    60% {\n",
              "      border-color: transparent;\n",
              "      border-right-color: var(--fill-color);\n",
              "    }\n",
              "    80% {\n",
              "      border-color: transparent;\n",
              "      border-right-color: var(--fill-color);\n",
              "      border-bottom-color: var(--fill-color);\n",
              "    }\n",
              "    90% {\n",
              "      border-color: transparent;\n",
              "      border-bottom-color: var(--fill-color);\n",
              "    }\n",
              "  }\n",
              "</style>\n",
              "\n",
              "  <script>\n",
              "    async function quickchart(key) {\n",
              "      const quickchartButtonEl =\n",
              "        document.querySelector('#' + key + ' button');\n",
              "      quickchartButtonEl.disabled = true;  // To prevent multiple clicks.\n",
              "      quickchartButtonEl.classList.add('colab-df-spinner');\n",
              "      try {\n",
              "        const charts = await google.colab.kernel.invokeFunction(\n",
              "            'suggestCharts', [key], {});\n",
              "      } catch (error) {\n",
              "        console.error('Error during call to suggestCharts:', error);\n",
              "      }\n",
              "      quickchartButtonEl.classList.remove('colab-df-spinner');\n",
              "      quickchartButtonEl.classList.add('colab-df-quickchart-complete');\n",
              "    }\n",
              "    (() => {\n",
              "      let quickchartButtonEl =\n",
              "        document.querySelector('#df-d3cffd40-71da-4688-b078-dfdbbb25b936 button');\n",
              "      quickchartButtonEl.style.display =\n",
              "        google.colab.kernel.accessAllowed ? 'block' : 'none';\n",
              "    })();\n",
              "  </script>\n",
              "</div>\n",
              "\n",
              "  <div id=\"id_f21aea26-edc2-4eab-bad2-deedadb3e1dd\">\n",
              "    <style>\n",
              "      .colab-df-generate {\n",
              "        background-color: #E8F0FE;\n",
              "        border: none;\n",
              "        border-radius: 50%;\n",
              "        cursor: pointer;\n",
              "        display: none;\n",
              "        fill: #1967D2;\n",
              "        height: 32px;\n",
              "        padding: 0 0 0 0;\n",
              "        width: 32px;\n",
              "      }\n",
              "\n",
              "      .colab-df-generate:hover {\n",
              "        background-color: #E2EBFA;\n",
              "        box-shadow: 0px 1px 2px rgba(60, 64, 67, 0.3), 0px 1px 3px 1px rgba(60, 64, 67, 0.15);\n",
              "        fill: #174EA6;\n",
              "      }\n",
              "\n",
              "      [theme=dark] .colab-df-generate {\n",
              "        background-color: #3B4455;\n",
              "        fill: #D2E3FC;\n",
              "      }\n",
              "\n",
              "      [theme=dark] .colab-df-generate:hover {\n",
              "        background-color: #434B5C;\n",
              "        box-shadow: 0px 1px 3px 1px rgba(0, 0, 0, 0.15);\n",
              "        filter: drop-shadow(0px 1px 2px rgba(0, 0, 0, 0.3));\n",
              "        fill: #FFFFFF;\n",
              "      }\n",
              "    </style>\n",
              "    <button class=\"colab-df-generate\" onclick=\"generateWithVariable('df_stat_recent')\"\n",
              "            title=\"Generate code using this dataframe.\"\n",
              "            style=\"display:none;\">\n",
              "\n",
              "  <svg xmlns=\"http://www.w3.org/2000/svg\" height=\"24px\"viewBox=\"0 0 24 24\"\n",
              "       width=\"24px\">\n",
              "    <path d=\"M7,19H8.4L18.45,9,17,7.55,7,17.6ZM5,21V16.75L18.45,3.32a2,2,0,0,1,2.83,0l1.4,1.43a1.91,1.91,0,0,1,.58,1.4,1.91,1.91,0,0,1-.58,1.4L9.25,21ZM18.45,9,17,7.55Zm-12,3A5.31,5.31,0,0,0,4.9,8.1,5.31,5.31,0,0,0,1,6.5,5.31,5.31,0,0,0,4.9,4.9,5.31,5.31,0,0,0,6.5,1,5.31,5.31,0,0,0,8.1,4.9,5.31,5.31,0,0,0,12,6.5,5.46,5.46,0,0,0,6.5,12Z\"/>\n",
              "  </svg>\n",
              "    </button>\n",
              "    <script>\n",
              "      (() => {\n",
              "      const buttonEl =\n",
              "        document.querySelector('#id_f21aea26-edc2-4eab-bad2-deedadb3e1dd button.colab-df-generate');\n",
              "      buttonEl.style.display =\n",
              "        google.colab.kernel.accessAllowed ? 'block' : 'none';\n",
              "\n",
              "      buttonEl.onclick = () => {\n",
              "        google.colab.notebook.generateWithVariable('df_stat_recent');\n",
              "      }\n",
              "      })();\n",
              "    </script>\n",
              "  </div>\n",
              "\n",
              "    </div>\n",
              "  </div>\n"
            ],
            "application/vnd.google.colaboratory.intrinsic+json": {
              "type": "dataframe",
              "variable_name": "df_stat_recent"
            }
          },
          "metadata": {},
          "execution_count": 13
        }
      ],
      "source": [
        "df_stat_recent = df_STAT[df_STAT[\"Year\"] >=2021]\n",
        "df_stat_recent"
      ]
    },
    {
      "cell_type": "code",
      "execution_count": 14,
      "metadata": {
        "id": "vLqJpdKfmFwY"
      },
      "outputs": [],
      "source": [
        "df_cs_recent = df_CS[df_CS[\"Year\"] >=2021]\n",
        "df_cs_recent"
      ]
    },
    {
      "cell_type": "code",
      "execution_count": 22,
      "metadata": {
        "id": "iCcOJIpgmFwY"
      },
      "outputs": [],
      "source": [
        "df_stat_old = df_STAT[df_STAT[\"Year\"] < 2021]"
      ]
    },
    {
      "cell_type": "code",
      "execution_count": 36,
      "metadata": {
        "id": "F-_lg0momFwY"
      },
      "outputs": [],
      "source": [
        "df_cs_old = df_CS[df_CS[\"Year\"] <2021]"
      ]
    },
    {
      "cell_type": "markdown",
      "metadata": {
        "id": "EGYuPRWFmFwY"
      },
      "source": [
        "### 🔬 Test Case Checkpoint 🔬"
      ]
    },
    {
      "cell_type": "code",
      "execution_count": 23,
      "metadata": {
        "id": "P4pf4U8VmFwY",
        "colab": {
          "base_uri": "https://localhost:8080/"
        },
        "outputId": "e171395c-6715-4c4e-8fe5-e96b6b955fbd"
      },
      "outputs": [
        {
          "output_type": "stream",
          "name": "stdout",
          "text": [
            "🎉 All tests passed! 🎉\n"
          ]
        }
      ],
      "source": [
        "## == CHECKPOINT TEST CASES ==\n",
        "# - This read-only cell contains test cases for your previous cell.\n",
        "# - If this cell runs without any error our output, you PASSED all test cases!\n",
        "# - If this cell results in any errors, check you previous cell, make changes, and RE-RUN your code and then this cell.\n",
        "assert( 'df_stat_recent' in vars() ), \"Make certain to name the recent STAT courses df_stat_recent.\"\n",
        "assert( 'df_cs_recent' in vars() ), \"Make certain to name the recent CS courses df_cs_recent.\"\n",
        "assert( 'df_stat_old' in vars() ), \"Make certain to name the old STAT courses df_stat_old.\"\n",
        "assert( 'df_cs_old' in vars() ), \"Make certain to name the old CS courses df_cs_old.\"\n",
        "\n",
        "assert( len(df_stat_recent[df_stat_recent.Year < 2021] ) == 0 ), \"Make sure only years after and including 2021 are in the df_stat_recent DataFrame.\"\n",
        "assert( len(df_cs_recent[df_cs_recent.Year < 2021] ) == 0 ), \"Make sure only years after and including 2021 are in the df_cs_recent DataFrame.\"\n",
        "assert( len(df_stat_old[df_stat_old.Year >= 2021] ) == 0 ), \"Make sure only years before 2021 are in the df_stat_old DataFrame.\"\n",
        "assert( len(df_cs_old[df_cs_old.Year >= 2021] ) == 0 ), \"Make sure only years before 2021 are in the df_cs_old DataFrame.\"\n",
        "\n",
        "assert( len(df[ df.index.isin(df_stat_recent.index) & df.index.isin(df_stat_old.index) ]) == 0 ), \"Check for duplicate values in your df_stat_recent and df_stat_old DataFrames.\"\n",
        "assert( len(df[ df.index.isin(df_cs_recent.index) & df.index.isin(df_cs_old.index) ]) == 0 ), \"Check for duplicate values in your df_cs_recent and df_cs_old DataFrames.\"\n",
        "assert( len(df_cs_old) + len(df_cs_recent) == len(df_CS) ), \"You're excluding some rows from df_cs_old or df_cs_recent. Please double check your conditionals.\"\n",
        "assert( len(df_stat_old) + len(df_stat_recent) == len(df_STAT) ), \"You're excluding some rows from df_stat_old or df_stat_recent. Please double check your conditionals.\"\n",
        "\n",
        "## == SUCCESS MESSAGE ==\n",
        "# You will only see this message (with the emoji showing) if you passed all test cases:\n",
        "tada = \"\\N{PARTY POPPER}\"\n",
        "print(f\"{tada} All tests passed! {tada}\")"
      ]
    },
    {
      "cell_type": "markdown",
      "metadata": {
        "id": "Z78tEKC6mFwY"
      },
      "source": [
        "### Puzzle 1.5: New Analysis\n",
        "Now that we've got all the DataFrames setup with GPA data of the `CS` and `STAT` courses separated by recency (2021 or newer being 'recent'), we can do more in-depth analysis to investigate our question.\n",
        "\n",
        "In the following code cells, **calculate the percentages** described by the comment in the cell. Your answer should always be a **decimal between 0 and 1**.\n",
        "\n",
        "Just like Puzzle 1.3, remember:\n",
        "- To find the % of As, divide the total number of As by the total number of students.\n",
        "- The `A_Grades` column you made earlier, and the `Students` column containing the total number of students in each course.\n",
        "- The syntax `sum(df['column_name'])` can be used to add up the values of all rows in a particular column of a DataFrame."
      ]
    },
    {
      "cell_type": "code",
      "execution_count": 24,
      "metadata": {
        "id": "Uuk9Hj-XmFwZ",
        "colab": {
          "base_uri": "https://localhost:8080/"
        },
        "outputId": "cd40cdf8-291d-4e82-dff0-4d237e0059ca"
      },
      "outputs": [
        {
          "output_type": "stream",
          "name": "stdout",
          "text": [
            "Percentage of As received in CS in recent years: 0.7130059975764269\n"
          ]
        }
      ],
      "source": [
        "# Percentage of As received in CS in recent years\n",
        "cs_recent_a = sum(df_cs_recent['A_Grades'] ) / sum(df_cs_recent[\"Students\"])\n",
        "print(f'Percentage of As received in CS in recent years: {cs_recent_a}')"
      ]
    },
    {
      "cell_type": "code",
      "execution_count": 30,
      "metadata": {
        "id": "borEb1JKmFwZ",
        "colab": {
          "base_uri": "https://localhost:8080/"
        },
        "outputId": "a8b610b7-92b6-4d9e-8ea6-f2c1a30cbf5a"
      },
      "outputs": [
        {
          "output_type": "stream",
          "name": "stdout",
          "text": [
            "Percentage of As received in STAT in recent years: 0.6505842595985506\n"
          ]
        }
      ],
      "source": [
        "# Percentage of As received in STAT in recent years\n",
        "stat_recent_a = sum(df_stat_recent[\"A_Grades\"] ) / sum(df_stat_recent[\"Students\"])\n",
        "print(f'Percentage of As received in STAT in recent years: {stat_recent_a}')"
      ]
    },
    {
      "cell_type": "code",
      "source": [
        "# percentage of As received in CS in older years\n",
        "cs_old_a = sum(df_cs_old[\"A_Grades\"] ) / sum(df_cs_old[\"Students\"])\n",
        "print(f'Percentage of As received in CS in older years: {cs_old_a}')"
      ],
      "metadata": {
        "id": "CtESuEAMZaIW",
        "outputId": "0c4d9633-49b8-4a56-bb21-151532a9a256",
        "colab": {
          "base_uri": "https://localhost:8080/"
        }
      },
      "execution_count": 37,
      "outputs": [
        {
          "output_type": "stream",
          "name": "stdout",
          "text": [
            "Percentage of As received in CS in older years: 0.5714531786360225\n"
          ]
        }
      ]
    },
    {
      "cell_type": "code",
      "source": [
        "# percentage of As received in STAT in older years\n",
        "stat_old_a = sum(df_stat_old[\"A_Grades\"] ) / sum(df_stat_old[\"Students\"])\n",
        "print(f'Percentage of As received in STAT in older years: {stat_old_a}')"
      ],
      "metadata": {
        "id": "7SWavoOwaaJL",
        "outputId": "39253adf-ee2c-4350-ae1b-e13f6c395665",
        "colab": {
          "base_uri": "https://localhost:8080/"
        }
      },
      "execution_count": 38,
      "outputs": [
        {
          "output_type": "stream",
          "name": "stdout",
          "text": [
            "Percentage of As received in STAT in older years: 0.5975443876015648\n"
          ]
        }
      ]
    },
    {
      "cell_type": "code",
      "source": [],
      "metadata": {
        "id": "P-uP-HuoZGM6"
      },
      "execution_count": null,
      "outputs": []
    },
    {
      "cell_type": "markdown",
      "metadata": {
        "id": "M7QjV0onmFwc"
      },
      "source": [
        "### 🔬 Test Case Checkpoint 🔬"
      ]
    },
    {
      "cell_type": "code",
      "execution_count": 28,
      "metadata": {
        "id": "QaGriED3mFwc",
        "colab": {
          "base_uri": "https://localhost:8080/",
          "height": 245
        },
        "outputId": "48ae718d-d9a9-4402-e5b4-aa560547ce20"
      },
      "outputs": [
        {
          "output_type": "error",
          "ename": "NameError",
          "evalue": "name 'math' is not defined",
          "traceback": [
            "\u001b[0;31m---------------------------------------------------------------------------\u001b[0m",
            "\u001b[0;31mNameError\u001b[0m                                 Traceback (most recent call last)",
            "\u001b[0;32m<ipython-input-28-ec80aba4e325>\u001b[0m in \u001b[0;36m<cell line: 5>\u001b[0;34m()\u001b[0m\n\u001b[1;32m      3\u001b[0m \u001b[0;31m# - If this cell runs without any errors, you PASSED all test cases!\u001b[0m\u001b[0;34m\u001b[0m\u001b[0;34m\u001b[0m\u001b[0m\n\u001b[1;32m      4\u001b[0m \u001b[0;31m# - If this cell results in any errors, check your previous cell, make changes, and RE-RUN your code and then this cell.\u001b[0m\u001b[0;34m\u001b[0m\u001b[0;34m\u001b[0m\u001b[0m\n\u001b[0;32m----> 5\u001b[0;31m \u001b[0;32massert\u001b[0m\u001b[0;34m(\u001b[0m\u001b[0mmath\u001b[0m\u001b[0;34m.\u001b[0m\u001b[0misclose\u001b[0m\u001b[0;34m(\u001b[0m\u001b[0mcs_recent_a\u001b[0m\u001b[0;34m,\u001b[0m  \u001b[0;36m0.7130059975764269\u001b[0m\u001b[0;34m)\u001b[0m\u001b[0;34m)\u001b[0m\u001b[0;34m,\u001b[0m \u001b[0;34m\"The overall percentage of A grades received in CS courses recently does not appear to have been correctly calculated.\"\u001b[0m\u001b[0;34m\u001b[0m\u001b[0;34m\u001b[0m\u001b[0m\n\u001b[0m\u001b[1;32m      6\u001b[0m \u001b[0;32massert\u001b[0m\u001b[0;34m(\u001b[0m\u001b[0mmath\u001b[0m\u001b[0;34m.\u001b[0m\u001b[0misclose\u001b[0m\u001b[0;34m(\u001b[0m\u001b[0mstat_recent_a\u001b[0m\u001b[0;34m,\u001b[0m \u001b[0;36m0.6505842595985506\u001b[0m\u001b[0;34m)\u001b[0m\u001b[0;34m)\u001b[0m\u001b[0;34m,\u001b[0m \u001b[0;34m\"The overall percentage of A grades received in STAT courses recently does not appear to have been correctly calculated.\"\u001b[0m\u001b[0;34m\u001b[0m\u001b[0;34m\u001b[0m\u001b[0m\n\u001b[1;32m      7\u001b[0m \u001b[0;34m\u001b[0m\u001b[0m\n",
            "\u001b[0;31mNameError\u001b[0m: name 'math' is not defined"
          ]
        }
      ],
      "source": [
        "## == CHECKPOINT TEST CASES ==\n",
        "# - This read-only cell contains test cases for your previous cell.\n",
        "# - If this cell runs without any errors, you PASSED all test cases!\n",
        "# - If this cell results in any errors, check your previous cell, make changes, and RE-RUN your code and then this cell.\n",
        "assert(math.isclose(cs_recent_a,  0.7130059975764269)), \"The overall percentage of A grades received in CS courses recently does not appear to have been correctly calculated.\"\n",
        "assert(math.isclose(stat_recent_a, 0.6505842595985506)), \"The overall percentage of A grades received in STAT courses recently does not appear to have been correctly calculated.\"\n",
        "\n",
        "assert(math.isclose(cs_old_a, 0.5714531786360225)), \"The overall percentage of A grades received in CS courses in older years does not appear to have been correctly calculated.\"\n",
        "assert(math.isclose(stat_old_a, 0.5975443876015648)), \"The overall percentage of A grades received in STAT courses in older years does not appear to have been correctly calculated.\"\n",
        "\n",
        "## == SUCCESS MESSAGE ==\n",
        "# You will only see this message (with the emoji showing) if you passed all test cases:\n",
        "tada = \"\\N{PARTY POPPER}\"\n",
        "print(f\"{tada} All tests passed! {tada}\")"
      ]
    },
    {
      "cell_type": "markdown",
      "metadata": {
        "id": "48asv-qrmFwd"
      },
      "source": [
        "### Observe the Results\n",
        "**Run the following cell** to format all of your answers as a DataFrame.\n",
        "\n",
        "Keep in mind that \"Older\" means data from courses **before 2021**, and \"Recent\" means courses held **during or after 2021**."
      ]
    },
    {
      "cell_type": "code",
      "execution_count": null,
      "metadata": {
        "id": "_C5GeazAmFwd"
      },
      "outputs": [],
      "source": [
        "pd.DataFrame([\n",
        "  {'Older % of A': cs_old_a, 'Recent % of A': cs_recent_a, 'Overall % of A': cs_a},\n",
        "  {'Older % of A': stat_old_a, 'Recent % of A': stat_recent_a, 'Overall % of A': stat_a}\n",
        "], index=['CS', 'STAT'])"
      ]
    },
    {
      "cell_type": "markdown",
      "metadata": {
        "id": "7YM3xt5DmFwd"
      },
      "source": [
        "Notice that when observing the \"Overall % of A\" grades received:\n",
        "- It appears that `STAT` and `CS` are **equally difficult** to get an `A_Grades` (61.197% vs. 60.965%).\n",
        "- However, if you look at the sub-group of the courses held in years of **2021 and later**, we see that `CS` actually has a higher `A_Grades` rate!\n",
        "\n",
        "This is **Simpson's Paradox**: a pattern within a population can appear, disappear, or reverse when you look at subpopulations.\n",
        "\n",
        "In more formal terms, Simpson's Paradox can cause you to observe a pattern reverse when you look at the overall group statistics versus statistics of groups post-stratification. In this case we are stratifying by time.\n"
      ]
    },
    {
      "cell_type": "markdown",
      "metadata": {
        "id": "hOn59NMumFwd"
      },
      "source": [
        "### Analysis: Reflecting on New Observations"
      ]
    },
    {
      "cell_type": "markdown",
      "metadata": {
        "id": "rz3SxddDmFwd"
      },
      "source": [
        "Now think about how would you now respond differently to the incoming student's question:\n",
        "- *Is it easier to get an A in STAT or CS courses at UIUC?*\n",
        "\n",
        "**Q: Which comparison of percentages do you trust more and why? Are there any other potential confounding variables when answering this question that could be investigated further? Respond with at least three full sentences.**"
      ]
    },
    {
      "cell_type": "markdown",
      "metadata": {
        "id": "FVif4XiCmFwd"
      },
      "source": [
        "*(✏️ Edit this cell to replace this text with your answer. ✏️)*"
      ]
    },
    {
      "cell_type": "markdown",
      "metadata": {
        "id": "M__hOWgcmFwd"
      },
      "source": [
        "<hr style=\"color: #DD3403;\">"
      ]
    },
    {
      "cell_type": "markdown",
      "metadata": {
        "id": "DxWZnbJtmFwd"
      },
      "source": [
        "# Part 2: Revisiting the Hello Dataset\n",
        "\n",
        "Enough about GPA (for now). Two weeks ago, you created a series of questions that made up the **Hello Dataset** and completed the survey by answering all of the questions made by students in DISCOVERY.\n",
        "\n",
        "Now, we will load this dataset again and briefly answer a few questions with data about YOU!"
      ]
    },
    {
      "cell_type": "markdown",
      "metadata": {
        "id": "6MeVM9WfmFwd"
      },
      "source": [
        "## Load the Hello Dataset\n",
        "\n",
        "The \"Hello Dataset\" is available here:\n",
        "```\n",
        "https://waf.cs.illinois.edu/discovery/hello-sp24.csv\n",
        "```\n",
        "\n",
        "Use Python to load this dataset into a DataFrame called `df_hello`:"
      ]
    },
    {
      "cell_type": "code",
      "execution_count": null,
      "metadata": {
        "id": "ktCLEs2EmFwd"
      },
      "outputs": [],
      "source": [
        "df_hello = ...\n",
        "df_hello"
      ]
    },
    {
      "cell_type": "markdown",
      "metadata": {
        "id": "x0go8kJMmFwd"
      },
      "source": [
        "### 🔬 Test Case Checkpoint 🔬"
      ]
    },
    {
      "cell_type": "code",
      "execution_count": null,
      "metadata": {
        "id": "OVWaqhADmFwd"
      },
      "outputs": [],
      "source": [
        "## == CHECKPOINT TEST CASES ==\n",
        "# - This read-only cell contains test cases for your previous cell.\n",
        "# - If this cell runs without any errors, you PASSED all test cases!\n",
        "# - If this cell results in any errors, check your previous cell, make changes, and RE-RUN your code and then this cell.\n",
        "assert(len(df_hello) >= 600 and len(df_hello) < 700), \"This is not the Hello Dataset you're looking for. Check the URL.\"\n",
        "\n",
        "## == SUCCESS MESSAGE ==\n",
        "# You will only see this message (with the emoji showing) if you passed all test cases:\n",
        "tada = \"\\N{PARTY POPPER}\"\n",
        "print(f\"{tada} All tests passed! {tada}\")"
      ]
    },
    {
      "cell_type": "markdown",
      "metadata": {
        "id": "mBEQnm1VmFwd"
      },
      "source": [
        "## Happiness vs. Battery Life\n",
        "\n",
        "There is a narrative that \"Gen Zs are only happy when they're on their phone\" -- let's explore the relationship between your happiness and your cell phone's battery life!\n",
        "\n",
        "With the Hello Dataset, there's two questions with numeric responses that can help us explore this:\n",
        "- From 1 to 10, how happy are you right now?\n",
        "- What is your phone battery percentage currently at?"
      ]
    },
    {
      "cell_type": "markdown",
      "metadata": {
        "id": "epso_87BmFwe"
      },
      "source": [
        "### Puzzle 2.1: Observation Subsets\n",
        "\n",
        "In this situation, let's define three levels of happiness:\n",
        "- You're **very happy** if you answered \"how happy are you right now?\" with a score of 9 or higher,\n",
        "- You're **unhappy** if you answered \"how happy are you right now?\" with a score of less than 3,\n",
        "- Otherwise, you're just **happy**.\n",
        "\n",
        "From this, create three DataFrames that contain subsets of the Hello Dataset:\n",
        "- `df_very_happy`: including everyone who is \"very happy\" ($\\space \\geq 9 \\space$)\n",
        "- `df_happy`: including everyone who is \"happy\" ($\\space <9 $ and $\\geq 3 \\space$)\n",
        "- `df_unhappy`: including everyone who is \"unhappy\" ($\\space < 3 \\space$)\n",
        "\n",
        "The `happiness_question` question has been provided to you as a **string** for ease of DataFrame column access."
      ]
    },
    {
      "cell_type": "code",
      "execution_count": null,
      "metadata": {
        "id": "UXJNVl7amFwe"
      },
      "outputs": [],
      "source": [
        "happiness_question = 'From 1 to 10, how happy are you right now?'\n",
        "\n",
        "df_very_happy = ...\n",
        "df_very_happy"
      ]
    },
    {
      "cell_type": "code",
      "execution_count": null,
      "metadata": {
        "id": "TAwBL3oxmFwe"
      },
      "outputs": [],
      "source": [
        "df_happy = ...\n",
        "df_happy"
      ]
    },
    {
      "cell_type": "code",
      "execution_count": null,
      "metadata": {
        "id": "-hupphthmFwe"
      },
      "outputs": [],
      "source": [
        "df_unhappy = ...\n",
        "df_unhappy"
      ]
    },
    {
      "cell_type": "markdown",
      "metadata": {
        "id": "fRW1kVQrmFwe"
      },
      "source": [
        "### 🔬 Test Case Checkpoint 🔬"
      ]
    },
    {
      "cell_type": "code",
      "execution_count": null,
      "metadata": {
        "id": "4v6oI5zOmFwe"
      },
      "outputs": [],
      "source": [
        "## == CHECKPOINT TEST CASES ==\n",
        "# - This read-only cell contains test cases for your previous cell.\n",
        "# - If this cell runs without any errors, you PASSED all test cases!\n",
        "# - If this cell results in any errors, check your previous cell, make changes, and RE-RUN your code and then this cell.\n",
        "assert(len(df_very_happy) == 54 ), \"Double check your conditional used to create df_very_happy.\"\n",
        "assert(len(df_happy) == 519 ), \"Double check your conditional used to create df_happy.\"\n",
        "assert(len(df_unhappy) == 36 ), \"Double check your conditional used to create df_unhappy.\"\n",
        "\n",
        "## == SUCCESS MESSAGE ==\n",
        "# You will only see this message (with the emoji showing) if you passed all test cases:\n",
        "tada = \"\\N{PARTY POPPER}\"\n",
        "print(f\"{tada} All tests passed! {tada}\")"
      ]
    },
    {
      "cell_type": "markdown",
      "metadata": {
        "id": "gbZR8vExmFwe"
      },
      "source": [
        "### Puzzle 2.2: Average Phone Battery Percentage by Group\n",
        "\n",
        "Now find the **average phone battery percentage** of each group (`df_very_happy`, `df_happy`, and `df_unhappy`):\n",
        "\n",
        "- The `df['column name'].mean()` function returns the mean of all values in the specified column of `df`.\n",
        "- The `phone_battery_question` question has been provided to you as a **string** for ease of DataFrame column access."
      ]
    },
    {
      "cell_type": "code",
      "execution_count": null,
      "metadata": {
        "id": "6jwOvtZXmFwe"
      },
      "outputs": [],
      "source": [
        "phone_battery_question = 'What is your phone battery percentage currently at?'\n",
        "\n",
        "very_happy_people_avg_phone_battery = ...\n",
        "very_happy_people_avg_phone_battery"
      ]
    },
    {
      "cell_type": "code",
      "execution_count": null,
      "metadata": {
        "id": "HqUQXYoLmFwe"
      },
      "outputs": [],
      "source": [
        "happy_people_avg_phone_battery = ...\n",
        "happy_people_avg_phone_battery"
      ]
    },
    {
      "cell_type": "code",
      "execution_count": null,
      "metadata": {
        "id": "Hh71Snj4mFwe"
      },
      "outputs": [],
      "source": [
        "unhappy_people_avg_phone_battery = ...\n",
        "unhappy_people_avg_phone_battery"
      ]
    },
    {
      "cell_type": "markdown",
      "metadata": {
        "id": "ZvbhXSkJmFwe"
      },
      "source": [
        "### 🔬 Test Case Checkpoint 🔬"
      ]
    },
    {
      "cell_type": "code",
      "execution_count": null,
      "metadata": {
        "id": "oVK5E0GbmFwe"
      },
      "outputs": [],
      "source": [
        "## == CHECKPOINT TEST CASES ==\n",
        "# - This read-only cell contains test cases for your previous cell.\n",
        "# - If this cell runs without any errors, you PASSED all test cases!\n",
        "# - If this cell results in any errors, check your previous cell, make changes, and RE-RUN your code and then this cell.\n",
        "assert(math.isclose(very_happy_people_avg_phone_battery,  56.96296296296296)), \"The average phone battery percentage for very happy people does not appear to have been correctly calculated.\"\n",
        "assert(math.isclose(happy_people_avg_phone_battery,  59.335907335907336)), \"The average phone battery percentage for happy people does not appear to have been correctly calculated.\"\n",
        "assert(math.isclose(unhappy_people_avg_phone_battery,  56.02777777777778)), \"The average phone battery percentage for unhappy people does not appear to have been correctly calculated.\"\n",
        "\n",
        "## == SUCCESS MESSAGE ==\n",
        "# You will only see this message (with the emoji showing) if you passed all test cases:\n",
        "tada = \"\\N{PARTY POPPER}\"\n",
        "print(f\"{tada} All tests passed! {tada}\")"
      ]
    },
    {
      "cell_type": "markdown",
      "metadata": {
        "id": "DGsoEEdbmFwf"
      },
      "source": [
        "### Analysis: Happiness vs. Phone Battery"
      ]
    },
    {
      "cell_type": "markdown",
      "metadata": {
        "id": "CNrqIol0mFwf"
      },
      "source": [
        "**Q: What is the relationship between happiness and phone battery?  Can you think of a possible *confounding variable* in the observed relationship (or lack thereof) between happiness and phone battery?**  Write at least three complete sentences that includes:\n",
        "- Your analysis of the relationship between the two variables,\n",
        "- Your third, possibly confounding, variable that might be impacting the results, **AND**\n",
        "- Your analysis on why this third variable could be a possible confounder.\n",
        "- Any additional analysis on other variables or possible confounders."
      ]
    },
    {
      "cell_type": "markdown",
      "metadata": {
        "id": "Z1d3BZyWmFwf"
      },
      "source": [
        "*(✏️ Edit this cell to replace this text with your answer. ✏️)*"
      ]
    }
  ],
  "metadata": {
    "kernelspec": {
      "display_name": "Python 3.10.6 64-bit",
      "language": "python",
      "name": "python3"
    },
    "language_info": {
      "codemirror_mode": {
        "name": "ipython",
        "version": 3
      },
      "file_extension": ".py",
      "mimetype": "text/x-python",
      "name": "python",
      "nbconvert_exporter": "python",
      "pygments_lexer": "ipython3",
      "version": "3.11.3"
    },
    "vscode": {
      "interpreter": {
        "hash": "f48b0ea9e8281b29b1f9b6045fc5406bb9891af892053a27454c097f6ae51d2c"
      }
    },
    "colab": {
      "provenance": [],
      "include_colab_link": true
    }
  },
  "nbformat": 4,
  "nbformat_minor": 0
}